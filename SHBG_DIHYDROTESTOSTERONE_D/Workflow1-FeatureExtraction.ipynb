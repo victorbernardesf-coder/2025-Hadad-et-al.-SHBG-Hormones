{
 "cells": [
  {
   "cell_type": "markdown",
   "metadata": {},
   "source": [
    "# Workflow 1 - extract features from the trajectory\n",
    "\n",
    "**Input:** reference PDB and trajectory\n",
    "\n",
    "\n",
    "**Output:** featurized trajectory\n",
    "<hr>\n",
    "Steps:\n",
    "\n",
    "1. Load reference PDB and trajectory in the EnGen object\n",
    "3. Provide set of featurizations of interest (or use default)\n",
    "4. Evaluate different featurization (optional)\n",
    "5. Choose the best featurization\n",
    "6. Extract those features"
   ]
  },
  {
   "cell_type": "code",
   "execution_count": 1,
   "metadata": {
    "scrolled": true
   },
   "outputs": [
    {
     "data": {
      "application/vnd.jupyter.widget-view+json": {
       "model_id": "991d9ae6c4a7405bafb3f6c85cb3d717",
       "version_major": 2,
       "version_minor": 0
      },
      "text/plain": []
     },
     "metadata": {},
     "output_type": "display_data"
    },
    {
     "name": "stderr",
     "output_type": "stream",
     "text": [
      "Warning: importing 'simtk.openmm' is deprecated.  Import 'openmm' instead.\n"
     ]
    }
   ],
   "source": [
    "# required imports \n",
    "from engens.core.EnGens import *\n",
    "import engens.core.FeatureSelector as fs\n",
    "import pickle\n",
    "import mdshare\n",
    "import mdtraj\n",
    "import numpy as np\n",
    "import nglview\n",
    "from IPython.display import Javascript, display\n",
    "import json"
   ]
  },
  {
   "cell_type": "markdown",
   "metadata": {},
   "source": [
    "### Step 1 - load the structure and trajectory\n",
    "\n",
    "Provide the path to the files with the reference trajectory and topology.\n",
    "(You can use any format that <a fref = https://mdtraj.org/1.9.4/api/generated/mdtraj.load.html> mdtraj.load </a> will take as input).\n",
    "\n",
    "Optionally, provide a subset of the structure that you will use for featurization (e.g. binding site) as a <a href=https://mdtraj.org/1.9.4/atom_selection.html> atom selection string </a> or a list of atom indices.\n"
   ]
  },
  {
   "cell_type": "code",
   "execution_count": 2,
   "metadata": {},
   "outputs": [
    {
     "ename": "LoadError",
     "evalue": "start_0ns_PL.pdb [no match in repository]",
     "output_type": "error",
     "traceback": [
      "\u001b[0;31m---------------------------------------------------------------------------\u001b[0m",
      "\u001b[0;31mLoadError\u001b[0m                                 Traceback (most recent call last)",
      "\u001b[0;32m<ipython-input-2-77257706e3e1>\u001b[0m in \u001b[0;36m<module>\u001b[0;34m\u001b[0m\n\u001b[1;32m      2\u001b[0m \u001b[0;31m# or any other example from mdshare platform: https://markovmodel.github.io/mdshare/\u001b[0m\u001b[0;34m\u001b[0m\u001b[0;34m\u001b[0m\u001b[0;34m\u001b[0m\u001b[0m\n\u001b[1;32m      3\u001b[0m \u001b[0;34m\u001b[0m\u001b[0m\n\u001b[0;32m----> 4\u001b[0;31m \u001b[0mpdb\u001b[0m \u001b[0;34m=\u001b[0m \u001b[0mmdshare\u001b[0m\u001b[0;34m.\u001b[0m\u001b[0mfetch\u001b[0m\u001b[0;34m(\u001b[0m\u001b[0;34m'start_0ns_PL.pdb'\u001b[0m\u001b[0;34m,\u001b[0m \u001b[0mworking_directory\u001b[0m\u001b[0;34m=\u001b[0m\u001b[0;34m'.'\u001b[0m\u001b[0;34m)\u001b[0m\u001b[0;34m\u001b[0m\u001b[0;34m\u001b[0m\u001b[0m\n\u001b[0m\u001b[1;32m      5\u001b[0m \u001b[0mfiles\u001b[0m \u001b[0;34m=\u001b[0m \u001b[0mmdshare\u001b[0m\u001b[0;34m.\u001b[0m\u001b[0mfetch\u001b[0m\u001b[0;34m(\u001b[0m\u001b[0;34m'md_0_100_center_PL.xtcc'\u001b[0m\u001b[0;34m,\u001b[0m \u001b[0mworking_directory\u001b[0m\u001b[0;34m=\u001b[0m\u001b[0;34m'.'\u001b[0m\u001b[0;34m)\u001b[0m\u001b[0;34m\u001b[0m\u001b[0;34m\u001b[0m\u001b[0m\n",
      "\u001b[0;32m/opt/conda/lib/python3.6/site-packages/mdshare/api.py\u001b[0m in \u001b[0;36mfetch\u001b[0;34m(remote_filename, working_directory, repository, max_attempts, force, show_progress)\u001b[0m\n\u001b[1;32m     91\u001b[0m     \u001b[0mstack\u001b[0m \u001b[0;34m=\u001b[0m \u001b[0mrepository\u001b[0m\u001b[0;34m.\u001b[0m\u001b[0mstack\u001b[0m\u001b[0;34m(\u001b[0m\u001b[0mremote_filename\u001b[0m\u001b[0;34m)\u001b[0m\u001b[0;34m\u001b[0m\u001b[0;34m\u001b[0m\u001b[0m\n\u001b[1;32m     92\u001b[0m     \u001b[0;32mif\u001b[0m \u001b[0mlen\u001b[0m\u001b[0;34m(\u001b[0m\u001b[0mstack\u001b[0m\u001b[0;34m)\u001b[0m \u001b[0;34m==\u001b[0m \u001b[0;36m0\u001b[0m\u001b[0;34m:\u001b[0m\u001b[0;34m\u001b[0m\u001b[0;34m\u001b[0m\u001b[0m\n\u001b[0;32m---> 93\u001b[0;31m         \u001b[0;32mraise\u001b[0m \u001b[0mLoadError\u001b[0m\u001b[0;34m(\u001b[0m\u001b[0mremote_filename\u001b[0m\u001b[0;34m,\u001b[0m \u001b[0;34m'no match in repository'\u001b[0m\u001b[0;34m)\u001b[0m\u001b[0;34m\u001b[0m\u001b[0;34m\u001b[0m\u001b[0m\n\u001b[0m\u001b[1;32m     94\u001b[0m \u001b[0;34m\u001b[0m\u001b[0m\n\u001b[1;32m     95\u001b[0m     \u001b[0;32mif\u001b[0m \u001b[0mhave_progress_reporter\u001b[0m \u001b[0;32mand\u001b[0m \u001b[0mshow_progress\u001b[0m\u001b[0;34m:\u001b[0m\u001b[0;34m\u001b[0m\u001b[0;34m\u001b[0m\u001b[0m\n",
      "\u001b[0;31mLoadError\u001b[0m: start_0ns_PL.pdb [no match in repository]"
     ]
    }
   ],
   "source": [
    "# If you do not have trajectories of your own you can fetch this pentapeptide example \n",
    "# or any other example from mdshare platform: https://markovmodel.github.io/mdshare/\n",
    "\n",
    "pdb = mdshare.fetch('start_0ns_PL.pdb', working_directory='.')\n",
    "files = mdshare.fetch('md_0_100_center_PL.xtcc', working_directory='.')"
   ]
  },
  {
   "cell_type": "code",
   "execution_count": 3,
   "metadata": {
    "scrolled": true,
    "tags": []
   },
   "outputs": [
    {
     "data": {
      "application/vnd.jupyter.widget-view+json": {
       "model_id": "d8620fca15164448a943d060c8113c77",
       "version_major": 2,
       "version_minor": 0
      },
      "text/plain": [
       "ThemeManager()"
      ]
     },
     "metadata": {},
     "output_type": "display_data"
    },
    {
     "data": {
      "application/vnd.jupyter.widget-view+json": {
       "model_id": "61f72ba514594d9f9e2a4e12b6ec2eda",
       "version_major": 2,
       "version_minor": 0
      },
      "text/plain": [
       "NGLWidget(gui_style='ngl')"
      ]
     },
     "metadata": {},
     "output_type": "display_data"
    }
   ],
   "source": [
    "# Location of trajectory and topology files\n",
    "# (you can specify your own files here)\n",
    "top_loc = 'start_0ns_PL.pdb'\n",
    "traj_loc = 'md_0_100_center_PL.xtc'\n",
    "\n",
    "#Instrantiate the engens object\n",
    "\n",
    "#------------------------four options----------------------------#\n",
    "#-----you can uncomment any option that you would like to try-----#\n",
    "\n",
    "#Option 1 - load the full trajectory as a EnGen object \n",
    "\n",
    "#load full trajectory\n",
    "\n",
    "engen = EnGen(traj_loc, top_loc)\n",
    "\n",
    "\n",
    "# you can align the input trajectory by specifying the align flag to be true:\n",
    "# engen = EnGen(traj_loc, top_loc, align = True)\n",
    "\n",
    "\n",
    "\n",
    "#Option 2 - load a part of the trajectory by specifying a list of atoms of interest (binding site)\n",
    "#for example - first 10 atoms of the structure\n",
    "'''\n",
    "#load first 10 atoms of the trajectory\n",
    "N = 10\n",
    "select_list = [i for i in range(N)]\n",
    "engen = EnGen(traj_loc, top_loc, select_list)\n",
    "'''\n",
    "\n",
    "#Option 3 - load a part of the trajectory by specifying a selection string (binding site)\n",
    "#using atom selection format https://mdtraj.org/1.9.4/atom_selection.html\n",
    "#for example - you can specify residues with id 1, 2, 3 \n",
    "'''\n",
    "#load residues 1,2,3 of the trajectory\n",
    "binding_site_selstr = \"resid 1 or resid 2 or resid 3\"\n",
    "engen = EnGen(traj_loc, top_loc, binding_site_selstr)\n",
    "'''\n",
    "\n",
    "#Option 4 - load a part of the trajectory by selecting residues/atoms interactively\n",
    "# press CTRL and hover over the residues of interest to select them\n",
    "# press SHIFT and hover over residues to unselect them\n",
    "# to delete the selection input text \"none\" \n",
    "# into the filter for selection on the right side of the menu\n",
    "nglwidget = select_residues_nglview(top_loc)\n",
    "nglwidget"
   ]
  },
  {
   "cell_type": "code",
   "execution_count": 4,
   "metadata": {},
   "outputs": [
    {
     "data": {
      "application/javascript": [
       "\n",
       "var x = document.nglview.stage.getRepresentationsByName(\"selection\");\n",
       "var stickRepr = x['list'][0];\n",
       "var rules = JSON.stringify(stickRepr.repr.selection.selection.rules);\n",
       "console.log(\"Hello\");\n",
       "console.log(rules);\n",
       "var command = \"selection = '\" + rules + \"'\";\n",
       "IPython.notebook.kernel.execute(command);\n",
       "IPython.notebook.kernel.execute(\"selection = json.loads(selection)\");\n"
      ],
      "text/plain": [
       "<IPython.core.display.Javascript object>"
      ]
     },
     "metadata": {},
     "output_type": "display_data"
    }
   ],
   "source": [
    "## Option 4 - continue selection 1\n",
    "selection = None\n",
    "display(Javascript(js_script))"
   ]
  },
  {
   "cell_type": "code",
   "execution_count": 5,
   "metadata": {},
   "outputs": [
    {
     "name": "stderr",
     "output_type": "stream",
     "text": [
      "Aligning trajectory: 100%|██████████| 1/1 [00:06<00:00,  6.02s/it]\n",
      "Cleaning files...: 100%|██████████| 1/1 [00:00<00:00, 51.54it/s]\n",
      "Making the selection... : 101it [00:05, 19.02it/s]\n",
      "Cleaning files...: 100%|██████████| 101/101 [00:00<00:00, 13792.11it/s]\n"
     ]
    }
   ],
   "source": [
    "## Option 4 - continue selection 2\n",
    "binding_site_selstr = get_selstring(selection)\n",
    "#binding_site_selstr = \"(10 <= resid) and (resid <= 50)\" \n",
    "engen = EnGen(traj_loc, top_loc, binding_site_selstr, align = True)\n",
    "\n",
    "#------------------------end of options----------------------------#"
   ]
  },
  {
   "cell_type": "code",
   "execution_count": 6,
   "metadata": {},
   "outputs": [
    {
     "data": {
      "application/vnd.jupyter.widget-view+json": {
       "model_id": "36ea58e44bcf45ba9549d154b4d50700",
       "version_major": 2,
       "version_minor": 0
      },
      "text/plain": [
       "NGLWidget(max_frame=10000)"
      ]
     },
     "metadata": {},
     "output_type": "display_data"
    },
    {
     "data": {
      "application/vnd.jupyter.widget-view+json": {
       "model_id": "cf996cce1ab44e758b77c02e1b9a2f7b",
       "version_major": 2,
       "version_minor": 0
      },
      "text/plain": [
       "Tab(children=(Box(children=(Box(children=(Box(children=(Label(value='step'), IntSlider(value=1, min=-100)), la…"
      ]
     },
     "metadata": {},
     "output_type": "display_data"
    }
   ],
   "source": [
    "\n",
    "#visualize the trajectory (optional - if trajectory too large, skip this step)\n",
    "nglwidget = engen.show_animated_traj()\n",
    "nglwidget.clear_representations()\n",
    "nglwidget.add_ball_and_stick()\n",
    "nglwidget.center()\n",
    "nglwidget"
   ]
  },
  {
   "cell_type": "markdown",
   "metadata": {},
   "source": [
    "### Step 2 - select different featurizations\n",
    "\n",
    "Here we select ways to featurize the trajectory. Any PyEmma <a href = http://www.emma-project.org/latest/api/generated/pyemma.coordinates.featurizer.html> trajectory featurization </a> can be used in this step and any of the parameters of the respective featurizations can be provided. Users can also use the default initialization which includes three sets of features: (1) amino-acid pairwise distances; (2) torsion angles and (3) amino-acid pairwise distances with the torsion angels."
   ]
  },
  {
   "cell_type": "code",
   "execution_count": 7,
   "metadata": {},
   "outputs": [
    {
     "name": "stdout",
     "output_type": "stream",
     "text": [
      "14-10-24 16:53:46 pyemma.coordinates.data.featurization.featurizer.MDFeaturizer[0] WARNING  Using all residue pairs with schemes like closest or closest-heavy is very time consuming. Consider reducing the residue pairs\n",
      "14-10-24 16:53:46 pyemma.coordinates.data.featurization.featurizer.MDFeaturizer[1] WARNING  Using all residue pairs with schemes like closest or closest-heavy is very time consuming. Consider reducing the residue pairs\n",
      "Featurizer no. 0:\n",
      " residue_mindist\n",
      "['RES_DIST (closest-heavy) LEU22 - THR28', 'RES_DIST (closest-heavy) LEU22 - SER29', 'RES_DIST (closest-heavy) LEU22 - SER30', 'RES_DIST (closest-heavy) LEU22 - SER31', 'RES_DIST (closest-heavy) LEU22 - PHE44', 'RES_DIST (closest-heavy) LEU22 - TYR45', 'RES_DIST (closest-heavy) LEU22 - GLY46', 'RES_DIST (closest-heavy) LEU22 - ASP47', 'RES_DIST (closest-heavy) LEU22 - THR48', 'RES_DIST (closest-heavy) LEU22 - ASN49']...['RES_DIST (closest-heavy) SER116 - ARG128', 'RES_DIST (closest-heavy) SER116 - ILE129', 'RES_DIST (closest-heavy) SER116 - TRP158', 'RES_DIST (closest-heavy) SER116 - LEU159', 'RES_DIST (closest-heavy) LEU119 - ILE129', 'RES_DIST (closest-heavy) LEU119 - TRP158', 'RES_DIST (closest-heavy) LEU119 - LEU159', 'RES_DIST (closest-heavy) MET127 - TRP158', 'RES_DIST (closest-heavy) MET127 - LEU159', 'RES_DIST (closest-heavy) ARG128 - LEU159']\n",
      " Featurizer no. 1:\n",
      " backbone_torsions\n",
      "['COS(PHI 0 ILE 25)', 'SIN(PHI 0 ILE 25)', 'COS(PSI 0 LEU 22)', 'SIN(PSI 0 LEU 22)', 'COS(PHI 0 LYS 27)', 'SIN(PHI 0 LYS 27)', 'COS(PSI 0 ILE 25)', 'SIN(PSI 0 ILE 25)', 'COS(PHI 0 THR 28)', 'SIN(PHI 0 THR 28)']...['COS(PSI 0 ARG 128)', 'SIN(PSI 0 ARG 128)', 'COS(PHI 0 TRP 158)', 'SIN(PHI 0 TRP 158)', 'COS(PSI 0 ILE 129)', 'SIN(PSI 0 ILE 129)', 'COS(PHI 0 LEU 159)', 'SIN(PHI 0 LEU 159)', 'COS(PSI 0 TRP 158)', 'SIN(PSI 0 TRP 158)']\n",
      " Featurizer no. 2:\n",
      " backbone_torsions&residue_mindist\n",
      "['COS(PHI 0 ILE 25)', 'SIN(PHI 0 ILE 25)', 'COS(PSI 0 LEU 22)', 'SIN(PSI 0 LEU 22)', 'COS(PHI 0 LYS 27)', 'SIN(PHI 0 LYS 27)', 'COS(PSI 0 ILE 25)', 'SIN(PSI 0 ILE 25)', 'COS(PHI 0 THR 28)', 'SIN(PHI 0 THR 28)']...['RES_DIST (closest-heavy) SER116 - ARG128', 'RES_DIST (closest-heavy) SER116 - ILE129', 'RES_DIST (closest-heavy) SER116 - TRP158', 'RES_DIST (closest-heavy) SER116 - LEU159', 'RES_DIST (closest-heavy) LEU119 - ILE129', 'RES_DIST (closest-heavy) LEU119 - TRP158', 'RES_DIST (closest-heavy) LEU119 - LEU159', 'RES_DIST (closest-heavy) MET127 - TRP158', 'RES_DIST (closest-heavy) MET127 - LEU159', 'RES_DIST (closest-heavy) ARG128 - LEU159']\n",
      " \n"
     ]
    }
   ],
   "source": [
    "# Select the featurization for EnGens\n",
    "# (this step is performed on the selection you loaded above)\n",
    "\n",
    "#------------------------two options----------------------------#\n",
    "#-----you can uncomment any option that you would like to try-----#\n",
    "\n",
    "# Option 1 - extract the default features \n",
    "# ~~~~~~~~~~~~~~~~~~~~~~~~~~~~~~~~~~~~~~~~~ #\n",
    "# in this case the three default featurizations  will be added to engen object: \n",
    "# (1) aadist, (2) tangle and (3) aadist&tangle\n",
    "# ~~~~~~~~~~~~~~~~~~~~~~~~~~~~~~~~~~~~~~~~~~ #\n",
    "\n",
    "\n",
    "# remove any existing featurizers\n",
    "engen.reset_featurizers()\n",
    "\n",
    "# initialize default features \n",
    "engen.init_featurizers_default()\n",
    "\n",
    "\n",
    "# Option 2 - define the features you want to add on your own \n",
    "# ~~~~~~~~~~~~~~~~~~~~~~~~~~~~~~~~~~~~~~~~~ #\n",
    "# using any of the available featurizationswith PyEmma \n",
    "# http://www.emma-project.org/latest/api/generated/pyemma.coordinates.featurizer.html\n",
    "# with coresponding parameters\n",
    "# in this example we add three featurizations to the engen object: \n",
    "# (1) all-atoms, (2) C-alpha distances, (3) center-of-mass (COM) & tangles\n",
    "# ~~~~~~~~~~~~~~~~~~~~~~~~~~~~~~~~~~~~~~~~~ #\n",
    "\n",
    "'''\n",
    "# remove any existing featurizers\n",
    "\n",
    "engen.reset_featurizers()\n",
    "\n",
    "#all-atoms\n",
    "feat1 = {\n",
    "    \"add_sidechain_torsions\": {}\n",
    "}\n",
    "#add the respective features to the engen structure\n",
    "engen.add_featurizer(feat1)\n",
    "\n",
    "#C-alpha distances\n",
    "feat2 = {\n",
    "    \"add_backbone_torsions\": {\"cossin\":True, \"periodic\":False}\n",
    "}\n",
    "#add the respective features to the engen structure\n",
    "engen.add_featurizer(feat2)\n",
    "\n",
    "#center of mass and torsion angles\n",
    "feat3 = {\n",
    "    \"add_residue_COM\": {\"residue_indices\": [0, 1,2]},\n",
    "    \"add_distances_ca\": {\"periodic\":True, \"excluded_neighbors\":0}\n",
    "}\n",
    "#add the respective features to the engen structure\n",
    "engen.add_featurizer(feat3)\n",
    "'''\n",
    "\n",
    "\n",
    "#------------------------end of options----------------------------#\n",
    "\n",
    "# print the desctiption of the default features\n",
    "description = engen.describe_featurizers()\n",
    "print(description)"
   ]
  },
  {
   "cell_type": "markdown",
   "metadata": {},
   "source": [
    "### Step 3 - evaluate the featurizations\n",
    "\n",
    "This step is optional - we recommend evaluating the featurizations and picking the best using PyEmma's implementation of <a href=http://www.emma-project.org/latest/tutorials/notebooks/00-pentapeptide-showcase.html#Feature-selection> VAMP approach </a>.\n",
    "\n",
    "This helps you choose a set of features with which to proceed to the next Workflow."
   ]
  },
  {
   "cell_type": "code",
   "execution_count": 8,
   "metadata": {},
   "outputs": [
    {
     "name": "stdout",
     "output_type": "stream",
     "text": [
      "Choosing features with VAMP might take some time...\n",
      "Generating data from featurizations\n",
      "Running VAMP with different parameters. Might take some time.\n",
      "dimension =2, lag=100\n",
      "dimension =2, lag=150\n",
      "dimension =2, lag=200\n",
      "dimension =3, lag=100\n",
      "dimension =3, lag=150\n",
      "dimension =3, lag=200\n"
     ]
    },
    {
     "name": "stderr",
     "output_type": "stream",
     "text": [
      "/opt/conda/lib/python3.6/site-packages/engens/core/FeatureSelector.py:125: UserWarning: FixedFormatter should only be used together with FixedLocator\n",
      "  axes[i][j].set_xticklabels(names, rotation=30)\n"
     ]
    },
    {
     "data": {
      "image/png": "[encoded data removed]",
      "text/plain": [
       "<Figure size 864x432 with 6 Axes>"
      ]
     },
     "metadata": {
      "needs_background": "light"
     },
     "output_type": "display_data"
    }
   ],
   "source": [
    "\n",
    "#provide a range of lags and dimensions to train on\n",
    "\n",
    "#to make an informed decision on lag times see the timescale of your simulation\n",
    "traj_times = mdtraj.load(engen.traj, top=engen.ref).time\n",
    "#number of frames\n",
    "traj_nframes = len(traj_times)\n",
    "lags = [int(np.log(i)) for i in np.logspace(100, int(traj_nframes/50), num=3, base=np.e)]\n",
    "dims = [i + 1 for i in range(1,3)]\n",
    "\n",
    "#initialize VAMP2 featurizer and run it\n",
    "featsel = fs.VAMP2FeatureSelection(lags, dims, engen)\n",
    "featsel.run_vamp()\n",
    "\n",
    "#plot VAMP2 results\n",
    "featsel.plot_results()"
   ]
  },
  {
   "cell_type": "markdown",
   "metadata": {},
   "source": [
    "### Step 4 - pick the featurization\n",
    "\n",
    "We suggest using the featurization which gives you the highest VAMP2 score from the analysis above. To do so, run the cell below."
   ]
  },
  {
   "cell_type": "code",
   "execution_count": 9,
   "metadata": {},
   "outputs": [
    {
     "name": "stdout",
     "output_type": "stream",
     "text": [
      "Choosing features with VAMP might take some time...\n",
      "Using recycled VAMP2 scores.\n",
      "Picked featurized no. 2: backbone_torsions&residue_mindist\n",
      "With maximum VAMP2 score no. 2\n",
      "['COS(PHI 0 ILE 25)', 'SIN(PHI 0 ILE 25)', 'COS(PSI 0 LEU 22)', 'SIN(PSI 0 LEU 22)', 'COS(PHI 0 LYS 27)', 'SIN(PHI 0 LYS 27)', 'COS(PSI 0 ILE 25)', 'SIN(PSI 0 ILE 25)', 'COS(PHI 0 THR 28)', 'SIN(PHI 0 THR 28)', 'COS(PSI 0 LYS 27)', 'SIN(PSI 0 LYS 27)', 'COS(PHI 0 SER 29)', 'SIN(PHI 0 SER 29)', 'COS(PSI 0 THR 28)', 'SIN(PSI 0 THR 28)', 'COS(PHI 0 SER 30)', 'SIN(PHI 0 SER 30)', 'COS(PSI 0 SER 29)', 'SIN(PSI 0 SER 29)', 'COS(PHI 0 SER 31)', 'SIN(PHI 0 SER 31)', 'COS(PSI 0 SER 30)', 'SIN(PSI 0 SER 30)', 'COS(PHI 0 PHE 44)', 'SIN(PHI 0 PHE 44)', 'COS(PSI 0 SER 31)', 'SIN(PSI 0 SER 31)', 'COS(PHI 0 TYR 45)', 'SIN(PHI 0 TYR 45)', 'COS(PSI 0 PHE 44)', 'SIN(PSI 0 PHE 44)', 'COS(PHI 0 GLY 46)', 'SIN(PHI 0 GLY 46)', 'COS(PSI 0 TYR 45)', 'SIN(PSI 0 TYR 45)', 'COS(PHI 0 ASP 47)', 'SIN(PHI 0 ASP 47)', 'COS(PSI 0 GLY 46)', 'SIN(PSI 0 GLY 46)', 'COS(PHI 0 THR 48)', 'SIN(PHI 0 THR 48)', 'COS(PSI 0 ASP 47)', 'SIN(PSI 0 ASP 47)', 'COS(PHI 0 ASN 49)', 'SIN(PHI 0 ASN 49)', 'COS(PSI 0 THR 48)', 'SIN(PSI 0 THR 48)', 'COS(PHI 0 ASP 52)', 'SIN(PHI 0 ASP 52)', 'COS(PSI 0 ASN 49)', 'SIN(PSI 0 ASN 49)', 'COS(PHI 0 ASP 53)', 'SIN(PHI 0 ASP 53)', 'COS(PSI 0 ASP 52)', 'SIN(PSI 0 ASP 52)', 'COS(PHI 0 TRP 54)', 'SIN(PHI 0 TRP 54)', 'COS(PSI 0 ASP 53)', 'SIN(PSI 0 ASP 53)', 'COS(PHI 0 PHE 55)', 'SIN(PHI 0 PHE 55)', 'COS(PSI 0 TRP 54)', 'SIN(PSI 0 TRP 54)', 'COS(PHI 0 MET 56)', 'SIN(PHI 0 MET 56)', 'COS(PSI 0 PHE 55)', 'SIN(PSI 0 PHE 55)', 'COS(PHI 0 LEU 57)', 'SIN(PHI 0 LEU 57)', 'COS(PSI 0 MET 56)', 'SIN(PSI 0 MET 56)', 'COS(PHI 0 ILE 66)', 'SIN(PHI 0 ILE 66)', 'COS(PSI 0 LEU 57)', 'SIN(PSI 0 LEU 57)', 'COS(PHI 0 LEU 68)', 'SIN(PHI 0 LEU 68)', 'COS(PSI 0 ILE 66)', 'SIN(PSI 0 ILE 66)', 'COS(PHI 0 HIS 69)', 'SIN(PHI 0 HIS 69)', 'COS(PSI 0 LEU 68)', 'SIN(PSI 0 LEU 68)', 'COS(PHI 0 ASN 70)', 'SIN(PHI 0 ASN 70)', 'COS(PSI 0 HIS 69)', 'SIN(PSI 0 HIS 69)', 'COS(PHI 0 HIS 71)', 'SIN(PHI 0 HIS 71)', 'COS(PSI 0 ASN 70)', 'SIN(PSI 0 ASN 70)', 'COS(PHI 0 TRP 72)', 'SIN(PHI 0 TRP 72)', 'COS(PSI 0 HIS 71)', 'SIN(PSI 0 HIS 71)', 'COS(PHI 0 VAL 93)', 'SIN(PHI 0 VAL 93)', 'COS(PSI 0 TRP 72)', 'SIN(PSI 0 TRP 72)', 'COS(PHI 0 LYS 94)', 'SIN(PHI 0 LYS 94)', 'COS(PSI 0 VAL 93)', 'SIN(PSI 0 VAL 93)', 'COS(PHI 0 MET 95)', 'SIN(PHI 0 MET 95)', 'COS(PSI 0 LYS 94)', 'SIN(PSI 0 LYS 94)', 'COS(PHI 0 VAL 100)', 'SIN(PHI 0 VAL 100)', 'COS(PSI 0 MET 95)', 'SIN(PSI 0 MET 95)', 'COS(PHI 0 LEU 101)', 'SIN(PHI 0 LEU 101)', 'COS(PSI 0 VAL 100)', 'SIN(PSI 0 VAL 100)', 'COS(PHI 0 LEU 112)', 'SIN(PHI 0 LEU 112)', 'COS(PSI 0 LEU 101)', 'SIN(PSI 0 LEU 101)', 'COS(PHI 0 VAL 115)', 'SIN(PHI 0 VAL 115)', 'COS(PSI 0 LEU 112)', 'SIN(PSI 0 LEU 112)', 'COS(PHI 0 SER 116)', 'SIN(PHI 0 SER 116)', 'COS(PSI 0 VAL 115)', 'SIN(PSI 0 VAL 115)', 'COS(PHI 0 LEU 119)', 'SIN(PHI 0 LEU 119)', 'COS(PSI 0 SER 116)', 'SIN(PSI 0 SER 116)', 'COS(PHI 0 MET 127)', 'SIN(PHI 0 MET 127)', 'COS(PSI 0 LEU 119)', 'SIN(PSI 0 LEU 119)', 'COS(PHI 0 ARG 128)', 'SIN(PHI 0 ARG 128)', 'COS(PSI 0 MET 127)', 'SIN(PSI 0 MET 127)', 'COS(PHI 0 ILE 129)', 'SIN(PHI 0 ILE 129)', 'COS(PSI 0 ARG 128)', 'SIN(PSI 0 ARG 128)', 'COS(PHI 0 TRP 158)', 'SIN(PHI 0 TRP 158)', 'COS(PSI 0 ILE 129)', 'SIN(PSI 0 ILE 129)', 'COS(PHI 0 LEU 159)', 'SIN(PHI 0 LEU 159)', 'COS(PSI 0 TRP 158)', 'SIN(PSI 0 TRP 158)', 'RES_DIST (closest-heavy) LEU22 - THR28', 'RES_DIST (closest-heavy) LEU22 - SER29', 'RES_DIST (closest-heavy) LEU22 - SER30', 'RES_DIST (closest-heavy) LEU22 - SER31', 'RES_DIST (closest-heavy) LEU22 - PHE44', 'RES_DIST (closest-heavy) LEU22 - TYR45', 'RES_DIST (closest-heavy) LEU22 - GLY46', 'RES_DIST (closest-heavy) LEU22 - ASP47', 'RES_DIST (closest-heavy) LEU22 - THR48', 'RES_DIST (closest-heavy) LEU22 - ASN49', 'RES_DIST (closest-heavy) LEU22 - ASP52', 'RES_DIST (closest-heavy) LEU22 - ASP53', 'RES_DIST (closest-heavy) LEU22 - TRP54', 'RES_DIST (closest-heavy) LEU22 - PHE55', 'RES_DIST (closest-heavy) LEU22 - MET56', 'RES_DIST (closest-heavy) LEU22 - LEU57', 'RES_DIST (closest-heavy) LEU22 - ILE66', 'RES_DIST (closest-heavy) LEU22 - LEU68', 'RES_DIST (closest-heavy) LEU22 - HIS69', 'RES_DIST (closest-heavy) LEU22 - ASN70', 'RES_DIST (closest-heavy) LEU22 - HIS71', 'RES_DIST (closest-heavy) LEU22 - TRP72', 'RES_DIST (closest-heavy) LEU22 - VAL93', 'RES_DIST (closest-heavy) LEU22 - LYS94', 'RES_DIST (closest-heavy) LEU22 - MET95', 'RES_DIST (closest-heavy) LEU22 - VAL100', 'RES_DIST (closest-heavy) LEU22 - LEU101', 'RES_DIST (closest-heavy) LEU22 - LEU112', 'RES_DIST (closest-heavy) LEU22 - VAL115', 'RES_DIST (closest-heavy) LEU22 - SER116', 'RES_DIST (closest-heavy) LEU22 - LEU119', 'RES_DIST (closest-heavy) LEU22 - MET127', 'RES_DIST (closest-heavy) LEU22 - ARG128', 'RES_DIST (closest-heavy) LEU22 - ILE129', 'RES_DIST (closest-heavy) LEU22 - TRP158', 'RES_DIST (closest-heavy) LEU22 - LEU159', 'RES_DIST (closest-heavy) ILE25 - SER29', 'RES_DIST (closest-heavy) ILE25 - SER30', 'RES_DIST (closest-heavy) ILE25 - SER31', 'RES_DIST (closest-heavy) ILE25 - PHE44', 'RES_DIST (closest-heavy) ILE25 - TYR45', 'RES_DIST (closest-heavy) ILE25 - GLY46', 'RES_DIST (closest-heavy) ILE25 - ASP47', 'RES_DIST (closest-heavy) ILE25 - THR48', 'RES_DIST (closest-heavy) ILE25 - ASN49', 'RES_DIST (closest-heavy) ILE25 - ASP52', 'RES_DIST (closest-heavy) ILE25 - ASP53', 'RES_DIST (closest-heavy) ILE25 - TRP54', 'RES_DIST (closest-heavy) ILE25 - PHE55', 'RES_DIST (closest-heavy) ILE25 - MET56', 'RES_DIST (closest-heavy) ILE25 - LEU57', 'RES_DIST (closest-heavy) ILE25 - ILE66', 'RES_DIST (closest-heavy) ILE25 - LEU68', 'RES_DIST (closest-heavy) ILE25 - HIS69', 'RES_DIST (closest-heavy) ILE25 - ASN70', 'RES_DIST (closest-heavy) ILE25 - HIS71', 'RES_DIST (closest-heavy) ILE25 - TRP72', 'RES_DIST (closest-heavy) ILE25 - VAL93', 'RES_DIST (closest-heavy) ILE25 - LYS94', 'RES_DIST (closest-heavy) ILE25 - MET95', 'RES_DIST (closest-heavy) ILE25 - VAL100', 'RES_DIST (closest-heavy) ILE25 - LEU101', 'RES_DIST (closest-heavy) ILE25 - LEU112', 'RES_DIST (closest-heavy) ILE25 - VAL115', 'RES_DIST (closest-heavy) ILE25 - SER116', 'RES_DIST (closest-heavy) ILE25 - LEU119', 'RES_DIST (closest-heavy) ILE25 - MET127', 'RES_DIST (closest-heavy) ILE25 - ARG128', 'RES_DIST (closest-heavy) ILE25 - ILE129', 'RES_DIST (closest-heavy) ILE25 - TRP158', 'RES_DIST (closest-heavy) ILE25 - LEU159', 'RES_DIST (closest-heavy) LYS27 - SER30', 'RES_DIST (closest-heavy) LYS27 - SER31', 'RES_DIST (closest-heavy) LYS27 - PHE44', 'RES_DIST (closest-heavy) LYS27 - TYR45', 'RES_DIST (closest-heavy) LYS27 - GLY46', 'RES_DIST (closest-heavy) LYS27 - ASP47', 'RES_DIST (closest-heavy) LYS27 - THR48', 'RES_DIST (closest-heavy) LYS27 - ASN49', 'RES_DIST (closest-heavy) LYS27 - ASP52', 'RES_DIST (closest-heavy) LYS27 - ASP53', 'RES_DIST (closest-heavy) LYS27 - TRP54', 'RES_DIST (closest-heavy) LYS27 - PHE55', 'RES_DIST (closest-heavy) LYS27 - MET56', 'RES_DIST (closest-heavy) LYS27 - LEU57', 'RES_DIST (closest-heavy) LYS27 - ILE66', 'RES_DIST (closest-heavy) LYS27 - LEU68', 'RES_DIST (closest-heavy) LYS27 - HIS69', 'RES_DIST (closest-heavy) LYS27 - ASN70', 'RES_DIST (closest-heavy) LYS27 - HIS71', 'RES_DIST (closest-heavy) LYS27 - TRP72', 'RES_DIST (closest-heavy) LYS27 - VAL93', 'RES_DIST (closest-heavy) LYS27 - LYS94', 'RES_DIST (closest-heavy) LYS27 - MET95', 'RES_DIST (closest-heavy) LYS27 - VAL100', 'RES_DIST (closest-heavy) LYS27 - LEU101', 'RES_DIST (closest-heavy) LYS27 - LEU112', 'RES_DIST (closest-heavy) LYS27 - VAL115', 'RES_DIST (closest-heavy) LYS27 - SER116', 'RES_DIST (closest-heavy) LYS27 - LEU119', 'RES_DIST (closest-heavy) LYS27 - MET127', 'RES_DIST (closest-heavy) LYS27 - ARG128', 'RES_DIST (closest-heavy) LYS27 - ILE129', 'RES_DIST (closest-heavy) LYS27 - TRP158', 'RES_DIST (closest-heavy) LYS27 - LEU159', 'RES_DIST (closest-heavy) THR28 - SER31', 'RES_DIST (closest-heavy) THR28 - PHE44', 'RES_DIST (closest-heavy) THR28 - TYR45', 'RES_DIST (closest-heavy) THR28 - GLY46', 'RES_DIST (closest-heavy) THR28 - ASP47', 'RES_DIST (closest-heavy) THR28 - THR48', 'RES_DIST (closest-heavy) THR28 - ASN49', 'RES_DIST (closest-heavy) THR28 - ASP52', 'RES_DIST (closest-heavy) THR28 - ASP53', 'RES_DIST (closest-heavy) THR28 - TRP54', 'RES_DIST (closest-heavy) THR28 - PHE55', 'RES_DIST (closest-heavy) THR28 - MET56', 'RES_DIST (closest-heavy) THR28 - LEU57', 'RES_DIST (closest-heavy) THR28 - ILE66', 'RES_DIST (closest-heavy) THR28 - LEU68', 'RES_DIST (closest-heavy) THR28 - HIS69', 'RES_DIST (closest-heavy) THR28 - ASN70', 'RES_DIST (closest-heavy) THR28 - HIS71', 'RES_DIST (closest-heavy) THR28 - TRP72', 'RES_DIST (closest-heavy) THR28 - VAL93', 'RES_DIST (closest-heavy) THR28 - LYS94', 'RES_DIST (closest-heavy) THR28 - MET95', 'RES_DIST (closest-heavy) THR28 - VAL100', 'RES_DIST (closest-heavy) THR28 - LEU101', 'RES_DIST (closest-heavy) THR28 - LEU112', 'RES_DIST (closest-heavy) THR28 - VAL115', 'RES_DIST (closest-heavy) THR28 - SER116', 'RES_DIST (closest-heavy) THR28 - LEU119', 'RES_DIST (closest-heavy) THR28 - MET127', 'RES_DIST (closest-heavy) THR28 - ARG128', 'RES_DIST (closest-heavy) THR28 - ILE129', 'RES_DIST (closest-heavy) THR28 - TRP158', 'RES_DIST (closest-heavy) THR28 - LEU159', 'RES_DIST (closest-heavy) SER29 - PHE44', 'RES_DIST (closest-heavy) SER29 - TYR45', 'RES_DIST (closest-heavy) SER29 - GLY46', 'RES_DIST (closest-heavy) SER29 - ASP47', 'RES_DIST (closest-heavy) SER29 - THR48', 'RES_DIST (closest-heavy) SER29 - ASN49', 'RES_DIST (closest-heavy) SER29 - ASP52', 'RES_DIST (closest-heavy) SER29 - ASP53', 'RES_DIST (closest-heavy) SER29 - TRP54', 'RES_DIST (closest-heavy) SER29 - PHE55', 'RES_DIST (closest-heavy) SER29 - MET56', 'RES_DIST (closest-heavy) SER29 - LEU57', 'RES_DIST (closest-heavy) SER29 - ILE66', 'RES_DIST (closest-heavy) SER29 - LEU68', 'RES_DIST (closest-heavy) SER29 - HIS69', 'RES_DIST (closest-heavy) SER29 - ASN70', 'RES_DIST (closest-heavy) SER29 - HIS71', 'RES_DIST (closest-heavy) SER29 - TRP72', 'RES_DIST (closest-heavy) SER29 - VAL93', 'RES_DIST (closest-heavy) SER29 - LYS94', 'RES_DIST (closest-heavy) SER29 - MET95', 'RES_DIST (closest-heavy) SER29 - VAL100', 'RES_DIST (closest-heavy) SER29 - LEU101', 'RES_DIST (closest-heavy) SER29 - LEU112', 'RES_DIST (closest-heavy) SER29 - VAL115', 'RES_DIST (closest-heavy) SER29 - SER116', 'RES_DIST (closest-heavy) SER29 - LEU119', 'RES_DIST (closest-heavy) SER29 - MET127', 'RES_DIST (closest-heavy) SER29 - ARG128', 'RES_DIST (closest-heavy) SER29 - ILE129', 'RES_DIST (closest-heavy) SER29 - TRP158', 'RES_DIST (closest-heavy) SER29 - LEU159', 'RES_DIST (closest-heavy) SER30 - TYR45', 'RES_DIST (closest-heavy) SER30 - GLY46', 'RES_DIST (closest-heavy) SER30 - ASP47', 'RES_DIST (closest-heavy) SER30 - THR48', 'RES_DIST (closest-heavy) SER30 - ASN49', 'RES_DIST (closest-heavy) SER30 - ASP52', 'RES_DIST (closest-heavy) SER30 - ASP53', 'RES_DIST (closest-heavy) SER30 - TRP54', 'RES_DIST (closest-heavy) SER30 - PHE55', 'RES_DIST (closest-heavy) SER30 - MET56', 'RES_DIST (closest-heavy) SER30 - LEU57', 'RES_DIST (closest-heavy) SER30 - ILE66', 'RES_DIST (closest-heavy) SER30 - LEU68', 'RES_DIST (closest-heavy) SER30 - HIS69', 'RES_DIST (closest-heavy) SER30 - ASN70', 'RES_DIST (closest-heavy) SER30 - HIS71', 'RES_DIST (closest-heavy) SER30 - TRP72', 'RES_DIST (closest-heavy) SER30 - VAL93', 'RES_DIST (closest-heavy) SER30 - LYS94', 'RES_DIST (closest-heavy) SER30 - MET95', 'RES_DIST (closest-heavy) SER30 - VAL100', 'RES_DIST (closest-heavy) SER30 - LEU101', 'RES_DIST (closest-heavy) SER30 - LEU112', 'RES_DIST (closest-heavy) SER30 - VAL115', 'RES_DIST (closest-heavy) SER30 - SER116', 'RES_DIST (closest-heavy) SER30 - LEU119', 'RES_DIST (closest-heavy) SER30 - MET127', 'RES_DIST (closest-heavy) SER30 - ARG128', 'RES_DIST (closest-heavy) SER30 - ILE129', 'RES_DIST (closest-heavy) SER30 - TRP158', 'RES_DIST (closest-heavy) SER30 - LEU159', 'RES_DIST (closest-heavy) SER31 - GLY46', 'RES_DIST (closest-heavy) SER31 - ASP47', 'RES_DIST (closest-heavy) SER31 - THR48', 'RES_DIST (closest-heavy) SER31 - ASN49', 'RES_DIST (closest-heavy) SER31 - ASP52', 'RES_DIST (closest-heavy) SER31 - ASP53', 'RES_DIST (closest-heavy) SER31 - TRP54', 'RES_DIST (closest-heavy) SER31 - PHE55', 'RES_DIST (closest-heavy) SER31 - MET56', 'RES_DIST (closest-heavy) SER31 - LEU57', 'RES_DIST (closest-heavy) SER31 - ILE66', 'RES_DIST (closest-heavy) SER31 - LEU68', 'RES_DIST (closest-heavy) SER31 - HIS69', 'RES_DIST (closest-heavy) SER31 - ASN70', 'RES_DIST (closest-heavy) SER31 - HIS71', 'RES_DIST (closest-heavy) SER31 - TRP72', 'RES_DIST (closest-heavy) SER31 - VAL93', 'RES_DIST (closest-heavy) SER31 - LYS94', 'RES_DIST (closest-heavy) SER31 - MET95', 'RES_DIST (closest-heavy) SER31 - VAL100', 'RES_DIST (closest-heavy) SER31 - LEU101', 'RES_DIST (closest-heavy) SER31 - LEU112', 'RES_DIST (closest-heavy) SER31 - VAL115', 'RES_DIST (closest-heavy) SER31 - SER116', 'RES_DIST (closest-heavy) SER31 - LEU119', 'RES_DIST (closest-heavy) SER31 - MET127', 'RES_DIST (closest-heavy) SER31 - ARG128', 'RES_DIST (closest-heavy) SER31 - ILE129', 'RES_DIST (closest-heavy) SER31 - TRP158', 'RES_DIST (closest-heavy) SER31 - LEU159', 'RES_DIST (closest-heavy) PHE44 - ASP47', 'RES_DIST (closest-heavy) PHE44 - THR48', 'RES_DIST (closest-heavy) PHE44 - ASN49', 'RES_DIST (closest-heavy) PHE44 - ASP52', 'RES_DIST (closest-heavy) PHE44 - ASP53', 'RES_DIST (closest-heavy) PHE44 - TRP54', 'RES_DIST (closest-heavy) PHE44 - PHE55', 'RES_DIST (closest-heavy) PHE44 - MET56', 'RES_DIST (closest-heavy) PHE44 - LEU57', 'RES_DIST (closest-heavy) PHE44 - ILE66', 'RES_DIST (closest-heavy) PHE44 - LEU68', 'RES_DIST (closest-heavy) PHE44 - HIS69', 'RES_DIST (closest-heavy) PHE44 - ASN70', 'RES_DIST (closest-heavy) PHE44 - HIS71', 'RES_DIST (closest-heavy) PHE44 - TRP72', 'RES_DIST (closest-heavy) PHE44 - VAL93', 'RES_DIST (closest-heavy) PHE44 - LYS94', 'RES_DIST (closest-heavy) PHE44 - MET95', 'RES_DIST (closest-heavy) PHE44 - VAL100', 'RES_DIST (closest-heavy) PHE44 - LEU101', 'RES_DIST (closest-heavy) PHE44 - LEU112', 'RES_DIST (closest-heavy) PHE44 - VAL115', 'RES_DIST (closest-heavy) PHE44 - SER116', 'RES_DIST (closest-heavy) PHE44 - LEU119', 'RES_DIST (closest-heavy) PHE44 - MET127', 'RES_DIST (closest-heavy) PHE44 - ARG128', 'RES_DIST (closest-heavy) PHE44 - ILE129', 'RES_DIST (closest-heavy) PHE44 - TRP158', 'RES_DIST (closest-heavy) PHE44 - LEU159', 'RES_DIST (closest-heavy) TYR45 - THR48', 'RES_DIST (closest-heavy) TYR45 - ASN49', 'RES_DIST (closest-heavy) TYR45 - ASP52', 'RES_DIST (closest-heavy) TYR45 - ASP53', 'RES_DIST (closest-heavy) TYR45 - TRP54', 'RES_DIST (closest-heavy) TYR45 - PHE55', 'RES_DIST (closest-heavy) TYR45 - MET56', 'RES_DIST (closest-heavy) TYR45 - LEU57', 'RES_DIST (closest-heavy) TYR45 - ILE66', 'RES_DIST (closest-heavy) TYR45 - LEU68', 'RES_DIST (closest-heavy) TYR45 - HIS69', 'RES_DIST (closest-heavy) TYR45 - ASN70', 'RES_DIST (closest-heavy) TYR45 - HIS71', 'RES_DIST (closest-heavy) TYR45 - TRP72', 'RES_DIST (closest-heavy) TYR45 - VAL93', 'RES_DIST (closest-heavy) TYR45 - LYS94', 'RES_DIST (closest-heavy) TYR45 - MET95', 'RES_DIST (closest-heavy) TYR45 - VAL100', 'RES_DIST (closest-heavy) TYR45 - LEU101', 'RES_DIST (closest-heavy) TYR45 - LEU112', 'RES_DIST (closest-heavy) TYR45 - VAL115', 'RES_DIST (closest-heavy) TYR45 - SER116', 'RES_DIST (closest-heavy) TYR45 - LEU119', 'RES_DIST (closest-heavy) TYR45 - MET127', 'RES_DIST (closest-heavy) TYR45 - ARG128', 'RES_DIST (closest-heavy) TYR45 - ILE129', 'RES_DIST (closest-heavy) TYR45 - TRP158', 'RES_DIST (closest-heavy) TYR45 - LEU159', 'RES_DIST (closest-heavy) GLY46 - ASN49', 'RES_DIST (closest-heavy) GLY46 - ASP52', 'RES_DIST (closest-heavy) GLY46 - ASP53', 'RES_DIST (closest-heavy) GLY46 - TRP54', 'RES_DIST (closest-heavy) GLY46 - PHE55', 'RES_DIST (closest-heavy) GLY46 - MET56', 'RES_DIST (closest-heavy) GLY46 - LEU57', 'RES_DIST (closest-heavy) GLY46 - ILE66', 'RES_DIST (closest-heavy) GLY46 - LEU68', 'RES_DIST (closest-heavy) GLY46 - HIS69', 'RES_DIST (closest-heavy) GLY46 - ASN70', 'RES_DIST (closest-heavy) GLY46 - HIS71', 'RES_DIST (closest-heavy) GLY46 - TRP72', 'RES_DIST (closest-heavy) GLY46 - VAL93', 'RES_DIST (closest-heavy) GLY46 - LYS94', 'RES_DIST (closest-heavy) GLY46 - MET95', 'RES_DIST (closest-heavy) GLY46 - VAL100', 'RES_DIST (closest-heavy) GLY46 - LEU101', 'RES_DIST (closest-heavy) GLY46 - LEU112', 'RES_DIST (closest-heavy) GLY46 - VAL115', 'RES_DIST (closest-heavy) GLY46 - SER116', 'RES_DIST (closest-heavy) GLY46 - LEU119', 'RES_DIST (closest-heavy) GLY46 - MET127', 'RES_DIST (closest-heavy) GLY46 - ARG128', 'RES_DIST (closest-heavy) GLY46 - ILE129', 'RES_DIST (closest-heavy) GLY46 - TRP158', 'RES_DIST (closest-heavy) GLY46 - LEU159', 'RES_DIST (closest-heavy) ASP47 - ASP52', 'RES_DIST (closest-heavy) ASP47 - ASP53', 'RES_DIST (closest-heavy) ASP47 - TRP54', 'RES_DIST (closest-heavy) ASP47 - PHE55', 'RES_DIST (closest-heavy) ASP47 - MET56', 'RES_DIST (closest-heavy) ASP47 - LEU57', 'RES_DIST (closest-heavy) ASP47 - ILE66', 'RES_DIST (closest-heavy) ASP47 - LEU68', 'RES_DIST (closest-heavy) ASP47 - HIS69', 'RES_DIST (closest-heavy) ASP47 - ASN70', 'RES_DIST (closest-heavy) ASP47 - HIS71', 'RES_DIST (closest-heavy) ASP47 - TRP72', 'RES_DIST (closest-heavy) ASP47 - VAL93', 'RES_DIST (closest-heavy) ASP47 - LYS94', 'RES_DIST (closest-heavy) ASP47 - MET95', 'RES_DIST (closest-heavy) ASP47 - VAL100', 'RES_DIST (closest-heavy) ASP47 - LEU101', 'RES_DIST (closest-heavy) ASP47 - LEU112', 'RES_DIST (closest-heavy) ASP47 - VAL115', 'RES_DIST (closest-heavy) ASP47 - SER116', 'RES_DIST (closest-heavy) ASP47 - LEU119', 'RES_DIST (closest-heavy) ASP47 - MET127', 'RES_DIST (closest-heavy) ASP47 - ARG128', 'RES_DIST (closest-heavy) ASP47 - ILE129', 'RES_DIST (closest-heavy) ASP47 - TRP158', 'RES_DIST (closest-heavy) ASP47 - LEU159', 'RES_DIST (closest-heavy) THR48 - ASP53', 'RES_DIST (closest-heavy) THR48 - TRP54', 'RES_DIST (closest-heavy) THR48 - PHE55', 'RES_DIST (closest-heavy) THR48 - MET56', 'RES_DIST (closest-heavy) THR48 - LEU57', 'RES_DIST (closest-heavy) THR48 - ILE66', 'RES_DIST (closest-heavy) THR48 - LEU68', 'RES_DIST (closest-heavy) THR48 - HIS69', 'RES_DIST (closest-heavy) THR48 - ASN70', 'RES_DIST (closest-heavy) THR48 - HIS71', 'RES_DIST (closest-heavy) THR48 - TRP72', 'RES_DIST (closest-heavy) THR48 - VAL93', 'RES_DIST (closest-heavy) THR48 - LYS94', 'RES_DIST (closest-heavy) THR48 - MET95', 'RES_DIST (closest-heavy) THR48 - VAL100', 'RES_DIST (closest-heavy) THR48 - LEU101', 'RES_DIST (closest-heavy) THR48 - LEU112', 'RES_DIST (closest-heavy) THR48 - VAL115', 'RES_DIST (closest-heavy) THR48 - SER116', 'RES_DIST (closest-heavy) THR48 - LEU119', 'RES_DIST (closest-heavy) THR48 - MET127', 'RES_DIST (closest-heavy) THR48 - ARG128', 'RES_DIST (closest-heavy) THR48 - ILE129', 'RES_DIST (closest-heavy) THR48 - TRP158', 'RES_DIST (closest-heavy) THR48 - LEU159', 'RES_DIST (closest-heavy) ASN49 - TRP54', 'RES_DIST (closest-heavy) ASN49 - PHE55', 'RES_DIST (closest-heavy) ASN49 - MET56', 'RES_DIST (closest-heavy) ASN49 - LEU57', 'RES_DIST (closest-heavy) ASN49 - ILE66', 'RES_DIST (closest-heavy) ASN49 - LEU68', 'RES_DIST (closest-heavy) ASN49 - HIS69', 'RES_DIST (closest-heavy) ASN49 - ASN70', 'RES_DIST (closest-heavy) ASN49 - HIS71', 'RES_DIST (closest-heavy) ASN49 - TRP72', 'RES_DIST (closest-heavy) ASN49 - VAL93', 'RES_DIST (closest-heavy) ASN49 - LYS94', 'RES_DIST (closest-heavy) ASN49 - MET95', 'RES_DIST (closest-heavy) ASN49 - VAL100', 'RES_DIST (closest-heavy) ASN49 - LEU101', 'RES_DIST (closest-heavy) ASN49 - LEU112', 'RES_DIST (closest-heavy) ASN49 - VAL115', 'RES_DIST (closest-heavy) ASN49 - SER116', 'RES_DIST (closest-heavy) ASN49 - LEU119', 'RES_DIST (closest-heavy) ASN49 - MET127', 'RES_DIST (closest-heavy) ASN49 - ARG128', 'RES_DIST (closest-heavy) ASN49 - ILE129', 'RES_DIST (closest-heavy) ASN49 - TRP158', 'RES_DIST (closest-heavy) ASN49 - LEU159', 'RES_DIST (closest-heavy) ASP52 - PHE55', 'RES_DIST (closest-heavy) ASP52 - MET56', 'RES_DIST (closest-heavy) ASP52 - LEU57', 'RES_DIST (closest-heavy) ASP52 - ILE66', 'RES_DIST (closest-heavy) ASP52 - LEU68', 'RES_DIST (closest-heavy) ASP52 - HIS69', 'RES_DIST (closest-heavy) ASP52 - ASN70', 'RES_DIST (closest-heavy) ASP52 - HIS71', 'RES_DIST (closest-heavy) ASP52 - TRP72', 'RES_DIST (closest-heavy) ASP52 - VAL93', 'RES_DIST (closest-heavy) ASP52 - LYS94', 'RES_DIST (closest-heavy) ASP52 - MET95', 'RES_DIST (closest-heavy) ASP52 - VAL100', 'RES_DIST (closest-heavy) ASP52 - LEU101', 'RES_DIST (closest-heavy) ASP52 - LEU112', 'RES_DIST (closest-heavy) ASP52 - VAL115', 'RES_DIST (closest-heavy) ASP52 - SER116', 'RES_DIST (closest-heavy) ASP52 - LEU119', 'RES_DIST (closest-heavy) ASP52 - MET127', 'RES_DIST (closest-heavy) ASP52 - ARG128', 'RES_DIST (closest-heavy) ASP52 - ILE129', 'RES_DIST (closest-heavy) ASP52 - TRP158', 'RES_DIST (closest-heavy) ASP52 - LEU159', 'RES_DIST (closest-heavy) ASP53 - MET56', 'RES_DIST (closest-heavy) ASP53 - LEU57', 'RES_DIST (closest-heavy) ASP53 - ILE66', 'RES_DIST (closest-heavy) ASP53 - LEU68', 'RES_DIST (closest-heavy) ASP53 - HIS69', 'RES_DIST (closest-heavy) ASP53 - ASN70', 'RES_DIST (closest-heavy) ASP53 - HIS71', 'RES_DIST (closest-heavy) ASP53 - TRP72', 'RES_DIST (closest-heavy) ASP53 - VAL93', 'RES_DIST (closest-heavy) ASP53 - LYS94', 'RES_DIST (closest-heavy) ASP53 - MET95', 'RES_DIST (closest-heavy) ASP53 - VAL100', 'RES_DIST (closest-heavy) ASP53 - LEU101', 'RES_DIST (closest-heavy) ASP53 - LEU112', 'RES_DIST (closest-heavy) ASP53 - VAL115', 'RES_DIST (closest-heavy) ASP53 - SER116', 'RES_DIST (closest-heavy) ASP53 - LEU119', 'RES_DIST (closest-heavy) ASP53 - MET127', 'RES_DIST (closest-heavy) ASP53 - ARG128', 'RES_DIST (closest-heavy) ASP53 - ILE129', 'RES_DIST (closest-heavy) ASP53 - TRP158', 'RES_DIST (closest-heavy) ASP53 - LEU159', 'RES_DIST (closest-heavy) TRP54 - LEU57', 'RES_DIST (closest-heavy) TRP54 - ILE66', 'RES_DIST (closest-heavy) TRP54 - LEU68', 'RES_DIST (closest-heavy) TRP54 - HIS69', 'RES_DIST (closest-heavy) TRP54 - ASN70', 'RES_DIST (closest-heavy) TRP54 - HIS71', 'RES_DIST (closest-heavy) TRP54 - TRP72', 'RES_DIST (closest-heavy) TRP54 - VAL93', 'RES_DIST (closest-heavy) TRP54 - LYS94', 'RES_DIST (closest-heavy) TRP54 - MET95', 'RES_DIST (closest-heavy) TRP54 - VAL100', 'RES_DIST (closest-heavy) TRP54 - LEU101', 'RES_DIST (closest-heavy) TRP54 - LEU112', 'RES_DIST (closest-heavy) TRP54 - VAL115', 'RES_DIST (closest-heavy) TRP54 - SER116', 'RES_DIST (closest-heavy) TRP54 - LEU119', 'RES_DIST (closest-heavy) TRP54 - MET127', 'RES_DIST (closest-heavy) TRP54 - ARG128', 'RES_DIST (closest-heavy) TRP54 - ILE129', 'RES_DIST (closest-heavy) TRP54 - TRP158', 'RES_DIST (closest-heavy) TRP54 - LEU159', 'RES_DIST (closest-heavy) PHE55 - ILE66', 'RES_DIST (closest-heavy) PHE55 - LEU68', 'RES_DIST (closest-heavy) PHE55 - HIS69', 'RES_DIST (closest-heavy) PHE55 - ASN70', 'RES_DIST (closest-heavy) PHE55 - HIS71', 'RES_DIST (closest-heavy) PHE55 - TRP72', 'RES_DIST (closest-heavy) PHE55 - VAL93', 'RES_DIST (closest-heavy) PHE55 - LYS94', 'RES_DIST (closest-heavy) PHE55 - MET95', 'RES_DIST (closest-heavy) PHE55 - VAL100', 'RES_DIST (closest-heavy) PHE55 - LEU101', 'RES_DIST (closest-heavy) PHE55 - LEU112', 'RES_DIST (closest-heavy) PHE55 - VAL115', 'RES_DIST (closest-heavy) PHE55 - SER116', 'RES_DIST (closest-heavy) PHE55 - LEU119', 'RES_DIST (closest-heavy) PHE55 - MET127', 'RES_DIST (closest-heavy) PHE55 - ARG128', 'RES_DIST (closest-heavy) PHE55 - ILE129', 'RES_DIST (closest-heavy) PHE55 - TRP158', 'RES_DIST (closest-heavy) PHE55 - LEU159', 'RES_DIST (closest-heavy) MET56 - LEU68', 'RES_DIST (closest-heavy) MET56 - HIS69', 'RES_DIST (closest-heavy) MET56 - ASN70', 'RES_DIST (closest-heavy) MET56 - HIS71', 'RES_DIST (closest-heavy) MET56 - TRP72', 'RES_DIST (closest-heavy) MET56 - VAL93', 'RES_DIST (closest-heavy) MET56 - LYS94', 'RES_DIST (closest-heavy) MET56 - MET95', 'RES_DIST (closest-heavy) MET56 - VAL100', 'RES_DIST (closest-heavy) MET56 - LEU101', 'RES_DIST (closest-heavy) MET56 - LEU112', 'RES_DIST (closest-heavy) MET56 - VAL115', 'RES_DIST (closest-heavy) MET56 - SER116', 'RES_DIST (closest-heavy) MET56 - LEU119', 'RES_DIST (closest-heavy) MET56 - MET127', 'RES_DIST (closest-heavy) MET56 - ARG128', 'RES_DIST (closest-heavy) MET56 - ILE129', 'RES_DIST (closest-heavy) MET56 - TRP158', 'RES_DIST (closest-heavy) MET56 - LEU159', 'RES_DIST (closest-heavy) LEU57 - HIS69', 'RES_DIST (closest-heavy) LEU57 - ASN70', 'RES_DIST (closest-heavy) LEU57 - HIS71', 'RES_DIST (closest-heavy) LEU57 - TRP72', 'RES_DIST (closest-heavy) LEU57 - VAL93', 'RES_DIST (closest-heavy) LEU57 - LYS94', 'RES_DIST (closest-heavy) LEU57 - MET95', 'RES_DIST (closest-heavy) LEU57 - VAL100', 'RES_DIST (closest-heavy) LEU57 - LEU101', 'RES_DIST (closest-heavy) LEU57 - LEU112', 'RES_DIST (closest-heavy) LEU57 - VAL115', 'RES_DIST (closest-heavy) LEU57 - SER116', 'RES_DIST (closest-heavy) LEU57 - LEU119', 'RES_DIST (closest-heavy) LEU57 - MET127', 'RES_DIST (closest-heavy) LEU57 - ARG128', 'RES_DIST (closest-heavy) LEU57 - ILE129', 'RES_DIST (closest-heavy) LEU57 - TRP158', 'RES_DIST (closest-heavy) LEU57 - LEU159', 'RES_DIST (closest-heavy) ILE66 - ASN70', 'RES_DIST (closest-heavy) ILE66 - HIS71', 'RES_DIST (closest-heavy) ILE66 - TRP72', 'RES_DIST (closest-heavy) ILE66 - VAL93', 'RES_DIST (closest-heavy) ILE66 - LYS94', 'RES_DIST (closest-heavy) ILE66 - MET95', 'RES_DIST (closest-heavy) ILE66 - VAL100', 'RES_DIST (closest-heavy) ILE66 - LEU101', 'RES_DIST (closest-heavy) ILE66 - LEU112', 'RES_DIST (closest-heavy) ILE66 - VAL115', 'RES_DIST (closest-heavy) ILE66 - SER116', 'RES_DIST (closest-heavy) ILE66 - LEU119', 'RES_DIST (closest-heavy) ILE66 - MET127', 'RES_DIST (closest-heavy) ILE66 - ARG128', 'RES_DIST (closest-heavy) ILE66 - ILE129', 'RES_DIST (closest-heavy) ILE66 - TRP158', 'RES_DIST (closest-heavy) ILE66 - LEU159', 'RES_DIST (closest-heavy) LEU68 - HIS71', 'RES_DIST (closest-heavy) LEU68 - TRP72', 'RES_DIST (closest-heavy) LEU68 - VAL93', 'RES_DIST (closest-heavy) LEU68 - LYS94', 'RES_DIST (closest-heavy) LEU68 - MET95', 'RES_DIST (closest-heavy) LEU68 - VAL100', 'RES_DIST (closest-heavy) LEU68 - LEU101', 'RES_DIST (closest-heavy) LEU68 - LEU112', 'RES_DIST (closest-heavy) LEU68 - VAL115', 'RES_DIST (closest-heavy) LEU68 - SER116', 'RES_DIST (closest-heavy) LEU68 - LEU119', 'RES_DIST (closest-heavy) LEU68 - MET127', 'RES_DIST (closest-heavy) LEU68 - ARG128', 'RES_DIST (closest-heavy) LEU68 - ILE129', 'RES_DIST (closest-heavy) LEU68 - TRP158', 'RES_DIST (closest-heavy) LEU68 - LEU159', 'RES_DIST (closest-heavy) HIS69 - TRP72', 'RES_DIST (closest-heavy) HIS69 - VAL93', 'RES_DIST (closest-heavy) HIS69 - LYS94', 'RES_DIST (closest-heavy) HIS69 - MET95', 'RES_DIST (closest-heavy) HIS69 - VAL100', 'RES_DIST (closest-heavy) HIS69 - LEU101', 'RES_DIST (closest-heavy) HIS69 - LEU112', 'RES_DIST (closest-heavy) HIS69 - VAL115', 'RES_DIST (closest-heavy) HIS69 - SER116', 'RES_DIST (closest-heavy) HIS69 - LEU119', 'RES_DIST (closest-heavy) HIS69 - MET127', 'RES_DIST (closest-heavy) HIS69 - ARG128', 'RES_DIST (closest-heavy) HIS69 - ILE129', 'RES_DIST (closest-heavy) HIS69 - TRP158', 'RES_DIST (closest-heavy) HIS69 - LEU159', 'RES_DIST (closest-heavy) ASN70 - VAL93', 'RES_DIST (closest-heavy) ASN70 - LYS94', 'RES_DIST (closest-heavy) ASN70 - MET95', 'RES_DIST (closest-heavy) ASN70 - VAL100', 'RES_DIST (closest-heavy) ASN70 - LEU101', 'RES_DIST (closest-heavy) ASN70 - LEU112', 'RES_DIST (closest-heavy) ASN70 - VAL115', 'RES_DIST (closest-heavy) ASN70 - SER116', 'RES_DIST (closest-heavy) ASN70 - LEU119', 'RES_DIST (closest-heavy) ASN70 - MET127', 'RES_DIST (closest-heavy) ASN70 - ARG128', 'RES_DIST (closest-heavy) ASN70 - ILE129', 'RES_DIST (closest-heavy) ASN70 - TRP158', 'RES_DIST (closest-heavy) ASN70 - LEU159', 'RES_DIST (closest-heavy) HIS71 - LYS94', 'RES_DIST (closest-heavy) HIS71 - MET95', 'RES_DIST (closest-heavy) HIS71 - VAL100', 'RES_DIST (closest-heavy) HIS71 - LEU101', 'RES_DIST (closest-heavy) HIS71 - LEU112', 'RES_DIST (closest-heavy) HIS71 - VAL115', 'RES_DIST (closest-heavy) HIS71 - SER116', 'RES_DIST (closest-heavy) HIS71 - LEU119', 'RES_DIST (closest-heavy) HIS71 - MET127', 'RES_DIST (closest-heavy) HIS71 - ARG128', 'RES_DIST (closest-heavy) HIS71 - ILE129', 'RES_DIST (closest-heavy) HIS71 - TRP158', 'RES_DIST (closest-heavy) HIS71 - LEU159', 'RES_DIST (closest-heavy) TRP72 - MET95', 'RES_DIST (closest-heavy) TRP72 - VAL100', 'RES_DIST (closest-heavy) TRP72 - LEU101', 'RES_DIST (closest-heavy) TRP72 - LEU112', 'RES_DIST (closest-heavy) TRP72 - VAL115', 'RES_DIST (closest-heavy) TRP72 - SER116', 'RES_DIST (closest-heavy) TRP72 - LEU119', 'RES_DIST (closest-heavy) TRP72 - MET127', 'RES_DIST (closest-heavy) TRP72 - ARG128', 'RES_DIST (closest-heavy) TRP72 - ILE129', 'RES_DIST (closest-heavy) TRP72 - TRP158', 'RES_DIST (closest-heavy) TRP72 - LEU159', 'RES_DIST (closest-heavy) VAL93 - VAL100', 'RES_DIST (closest-heavy) VAL93 - LEU101', 'RES_DIST (closest-heavy) VAL93 - LEU112', 'RES_DIST (closest-heavy) VAL93 - VAL115', 'RES_DIST (closest-heavy) VAL93 - SER116', 'RES_DIST (closest-heavy) VAL93 - LEU119', 'RES_DIST (closest-heavy) VAL93 - MET127', 'RES_DIST (closest-heavy) VAL93 - ARG128', 'RES_DIST (closest-heavy) VAL93 - ILE129', 'RES_DIST (closest-heavy) VAL93 - TRP158', 'RES_DIST (closest-heavy) VAL93 - LEU159', 'RES_DIST (closest-heavy) LYS94 - LEU101', 'RES_DIST (closest-heavy) LYS94 - LEU112', 'RES_DIST (closest-heavy) LYS94 - VAL115', 'RES_DIST (closest-heavy) LYS94 - SER116', 'RES_DIST (closest-heavy) LYS94 - LEU119', 'RES_DIST (closest-heavy) LYS94 - MET127', 'RES_DIST (closest-heavy) LYS94 - ARG128', 'RES_DIST (closest-heavy) LYS94 - ILE129', 'RES_DIST (closest-heavy) LYS94 - TRP158', 'RES_DIST (closest-heavy) LYS94 - LEU159', 'RES_DIST (closest-heavy) MET95 - LEU112', 'RES_DIST (closest-heavy) MET95 - VAL115', 'RES_DIST (closest-heavy) MET95 - SER116', 'RES_DIST (closest-heavy) MET95 - LEU119', 'RES_DIST (closest-heavy) MET95 - MET127', 'RES_DIST (closest-heavy) MET95 - ARG128', 'RES_DIST (closest-heavy) MET95 - ILE129', 'RES_DIST (closest-heavy) MET95 - TRP158', 'RES_DIST (closest-heavy) MET95 - LEU159', 'RES_DIST (closest-heavy) VAL100 - VAL115', 'RES_DIST (closest-heavy) VAL100 - SER116', 'RES_DIST (closest-heavy) VAL100 - LEU119', 'RES_DIST (closest-heavy) VAL100 - MET127', 'RES_DIST (closest-heavy) VAL100 - ARG128', 'RES_DIST (closest-heavy) VAL100 - ILE129', 'RES_DIST (closest-heavy) VAL100 - TRP158', 'RES_DIST (closest-heavy) VAL100 - LEU159', 'RES_DIST (closest-heavy) LEU101 - SER116', 'RES_DIST (closest-heavy) LEU101 - LEU119', 'RES_DIST (closest-heavy) LEU101 - MET127', 'RES_DIST (closest-heavy) LEU101 - ARG128', 'RES_DIST (closest-heavy) LEU101 - ILE129', 'RES_DIST (closest-heavy) LEU101 - TRP158', 'RES_DIST (closest-heavy) LEU101 - LEU159', 'RES_DIST (closest-heavy) LEU112 - LEU119', 'RES_DIST (closest-heavy) LEU112 - MET127', 'RES_DIST (closest-heavy) LEU112 - ARG128', 'RES_DIST (closest-heavy) LEU112 - ILE129', 'RES_DIST (closest-heavy) LEU112 - TRP158', 'RES_DIST (closest-heavy) LEU112 - LEU159', 'RES_DIST (closest-heavy) VAL115 - MET127', 'RES_DIST (closest-heavy) VAL115 - ARG128', 'RES_DIST (closest-heavy) VAL115 - ILE129', 'RES_DIST (closest-heavy) VAL115 - TRP158', 'RES_DIST (closest-heavy) VAL115 - LEU159', 'RES_DIST (closest-heavy) SER116 - ARG128', 'RES_DIST (closest-heavy) SER116 - ILE129', 'RES_DIST (closest-heavy) SER116 - TRP158', 'RES_DIST (closest-heavy) SER116 - LEU159', 'RES_DIST (closest-heavy) LEU119 - ILE129', 'RES_DIST (closest-heavy) LEU119 - TRP158', 'RES_DIST (closest-heavy) LEU119 - LEU159', 'RES_DIST (closest-heavy) MET127 - TRP158', 'RES_DIST (closest-heavy) MET127 - LEU159', 'RES_DIST (closest-heavy) ARG128 - LEU159']\n",
      "\n"
     ]
    }
   ],
   "source": [
    "# Select using the VAMP2 selector from above \n",
    "\n",
    "featsel.select_feature()\n",
    "\n",
    "\n",
    "# ~~~~~~~~~~~~~~~~~~~~~~~~~~~~~~~~~~ #\n",
    "# alternatively you can chose any feature regardless of the VAMP2 score by running the code commented here\n",
    "\n",
    "'''\n",
    "#apply features\n",
    "engen.apply_featurizations()\n",
    "#print possible features\n",
    "print(engen.describe_featurizers())\n",
    "#select the number of the desired feature\n",
    "feat_num = 1\n",
    "# initialize selector\n",
    "featsel = fs.UserFeatureSelection(feat_num, engen)\n",
    "#select the feature\n",
    "featsel.select_feature()\n",
    "'''\n",
    "# ~~~~~~~~~~~~~~~~~~~~~~~~~~~~~~~~ #\n",
    "print()"
   ]
  },
  {
   "cell_type": "markdown",
   "metadata": {},
   "source": [
    "### Step 5 - save the results as input for Workflow2 - dimensionality reduction"
   ]
  },
  {
   "cell_type": "code",
   "execution_count": 10,
   "metadata": {},
   "outputs": [],
   "source": [
    "# save the results for next workflow\n",
    "\n",
    "with open(\"wf1_resulting_EnGen.pickle\", \"wb\") as file:\n",
    "    pickle.dump(engen, file, -1)"
   ]
  },
  {
   "cell_type": "code",
   "execution_count": null,
   "metadata": {},
   "outputs": [],
   "source": []
  }
 ],
 "metadata": {
  "interpreter": {
   "hash": "d429d429aea2339123034138905f0cd1b56c1cbab1e9830e5564dfad92aaa54f"
  },
  "kernelspec": {
   "display_name": "Python 3",
   "language": "python",
   "name": "python3"
  },
  "language_info": {
   "codemirror_mode": {
    "name": "ipython",
    "version": 3
   },
   "file_extension": ".py",
   "mimetype": "text/x-python",
   "name": "python",
   "nbconvert_exporter": "python",
   "pygments_lexer": "ipython3",
   "version": "3.6.7"
  }
 },
 "nbformat": 4,
 "nbformat_minor": 4
}
