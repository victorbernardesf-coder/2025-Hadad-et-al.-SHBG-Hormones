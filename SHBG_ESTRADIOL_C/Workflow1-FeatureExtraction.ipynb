{
 "cells": [
  {
   "cell_type": "markdown",
   "metadata": {},
   "source": [
    "# Workflow 1 - extract features from the trajectory\n",
    "\n",
    "**Input:** reference PDB and trajectory\n",
    "\n",
    "\n",
    "**Output:** featurized trajectory\n",
    "<hr>\n",
    "Steps:\n",
    "\n",
    "1. Load reference PDB and trajectory in the EnGen object\n",
    "3. Provide set of featurizations of interest (or use default)\n",
    "4. Evaluate different featurization (optional)\n",
    "5. Choose the best featurization\n",
    "6. Extract those features"
   ]
  },
  {
   "cell_type": "code",
   "execution_count": 1,
   "metadata": {
    "scrolled": true
   },
   "outputs": [
    {
     "data": {
      "application/vnd.jupyter.widget-view+json": {
       "model_id": "ac96f3b97e184a6cbebdc9a3bdafded3",
       "version_major": 2,
       "version_minor": 0
      },
      "text/plain": []
     },
     "metadata": {},
     "output_type": "display_data"
    },
    {
     "name": "stderr",
     "output_type": "stream",
     "text": [
      "Warning: importing 'simtk.openmm' is deprecated.  Import 'openmm' instead.\n"
     ]
    }
   ],
   "source": [
    "# required imports \n",
    "from engens.core.EnGens import *\n",
    "import engens.core.FeatureSelector as fs\n",
    "import pickle\n",
    "import mdshare\n",
    "import mdtraj\n",
    "import numpy as np\n",
    "import nglview\n",
    "from IPython.display import Javascript, display\n",
    "import json"
   ]
  },
  {
   "cell_type": "markdown",
   "metadata": {},
   "source": [
    "### Step 1 - load the structure and trajectory\n",
    "\n",
    "Provide the path to the files with the reference trajectory and topology.\n",
    "(You can use any format that <a fref = https://mdtraj.org/1.9.4/api/generated/mdtraj.load.html> mdtraj.load </a> will take as input).\n",
    "\n",
    "Optionally, provide a subset of the structure that you will use for featurization (e.g. binding site) as a <a href=https://mdtraj.org/1.9.4/atom_selection.html> atom selection string </a> or a list of atom indices.\n"
   ]
  },
  {
   "cell_type": "code",
   "execution_count": 2,
   "metadata": {},
   "outputs": [
    {
     "ename": "LoadError",
     "evalue": "start_0ns_PL.pdb [no match in repository]",
     "output_type": "error",
     "traceback": [
      "\u001b[0;31m---------------------------------------------------------------------------\u001b[0m",
      "\u001b[0;31mLoadError\u001b[0m                                 Traceback (most recent call last)",
      "\u001b[0;32m<ipython-input-2-6549331b3f80>\u001b[0m in \u001b[0;36m<module>\u001b[0;34m\u001b[0m\n\u001b[1;32m      2\u001b[0m \u001b[0;31m# or any other example from mdshare platform: https://markovmodel.github.io/mdshare/\u001b[0m\u001b[0;34m\u001b[0m\u001b[0;34m\u001b[0m\u001b[0;34m\u001b[0m\u001b[0m\n\u001b[1;32m      3\u001b[0m \u001b[0;34m\u001b[0m\u001b[0m\n\u001b[0;32m----> 4\u001b[0;31m \u001b[0mpdb\u001b[0m \u001b[0;34m=\u001b[0m \u001b[0mmdshare\u001b[0m\u001b[0;34m.\u001b[0m\u001b[0mfetch\u001b[0m\u001b[0;34m(\u001b[0m\u001b[0;34m'start_0ns_PL.pdb'\u001b[0m\u001b[0;34m,\u001b[0m \u001b[0mworking_directory\u001b[0m\u001b[0;34m=\u001b[0m\u001b[0;34m'.'\u001b[0m\u001b[0;34m)\u001b[0m\u001b[0;34m\u001b[0m\u001b[0;34m\u001b[0m\u001b[0m\n\u001b[0m\u001b[1;32m      5\u001b[0m \u001b[0mfiles\u001b[0m \u001b[0;34m=\u001b[0m \u001b[0mmdshare\u001b[0m\u001b[0;34m.\u001b[0m\u001b[0mfetch\u001b[0m\u001b[0;34m(\u001b[0m\u001b[0;34m'md_0_100_center_PL.xtc'\u001b[0m\u001b[0;34m,\u001b[0m \u001b[0mworking_directory\u001b[0m\u001b[0;34m=\u001b[0m\u001b[0;34m'.'\u001b[0m\u001b[0;34m)\u001b[0m\u001b[0;34m\u001b[0m\u001b[0;34m\u001b[0m\u001b[0m\n",
      "\u001b[0;32m/opt/conda/lib/python3.6/site-packages/mdshare/api.py\u001b[0m in \u001b[0;36mfetch\u001b[0;34m(remote_filename, working_directory, repository, max_attempts, force, show_progress)\u001b[0m\n\u001b[1;32m     91\u001b[0m     \u001b[0mstack\u001b[0m \u001b[0;34m=\u001b[0m \u001b[0mrepository\u001b[0m\u001b[0;34m.\u001b[0m\u001b[0mstack\u001b[0m\u001b[0;34m(\u001b[0m\u001b[0mremote_filename\u001b[0m\u001b[0;34m)\u001b[0m\u001b[0;34m\u001b[0m\u001b[0;34m\u001b[0m\u001b[0m\n\u001b[1;32m     92\u001b[0m     \u001b[0;32mif\u001b[0m \u001b[0mlen\u001b[0m\u001b[0;34m(\u001b[0m\u001b[0mstack\u001b[0m\u001b[0;34m)\u001b[0m \u001b[0;34m==\u001b[0m \u001b[0;36m0\u001b[0m\u001b[0;34m:\u001b[0m\u001b[0;34m\u001b[0m\u001b[0;34m\u001b[0m\u001b[0m\n\u001b[0;32m---> 93\u001b[0;31m         \u001b[0;32mraise\u001b[0m \u001b[0mLoadError\u001b[0m\u001b[0;34m(\u001b[0m\u001b[0mremote_filename\u001b[0m\u001b[0;34m,\u001b[0m \u001b[0;34m'no match in repository'\u001b[0m\u001b[0;34m)\u001b[0m\u001b[0;34m\u001b[0m\u001b[0;34m\u001b[0m\u001b[0m\n\u001b[0m\u001b[1;32m     94\u001b[0m \u001b[0;34m\u001b[0m\u001b[0m\n\u001b[1;32m     95\u001b[0m     \u001b[0;32mif\u001b[0m \u001b[0mhave_progress_reporter\u001b[0m \u001b[0;32mand\u001b[0m \u001b[0mshow_progress\u001b[0m\u001b[0;34m:\u001b[0m\u001b[0;34m\u001b[0m\u001b[0;34m\u001b[0m\u001b[0m\n",
      "\u001b[0;31mLoadError\u001b[0m: start_0ns_PL.pdb [no match in repository]"
     ]
    }
   ],
   "source": [
    "# If you do not have trajectories of your own you can fetch this pentapeptide example \n",
    "# or any other example from mdshare platform: https://markovmodel.github.io/mdshare/\n",
    "\n",
    "pdb = mdshare.fetch('start_0ns_PL.pdb', working_directory='.')\n",
    "files = mdshare.fetch('md_0_100_center_PL.xtc', working_directory='.')"
   ]
  },
  {
   "cell_type": "code",
   "execution_count": 3,
   "metadata": {
    "scrolled": true,
    "tags": []
   },
   "outputs": [
    {
     "data": {
      "application/vnd.jupyter.widget-view+json": {
       "model_id": "3ea0119e00104ce89939d8eb5f3cd849",
       "version_major": 2,
       "version_minor": 0
      },
      "text/plain": [
       "ThemeManager()"
      ]
     },
     "metadata": {},
     "output_type": "display_data"
    },
    {
     "data": {
      "application/vnd.jupyter.widget-view+json": {
       "model_id": "80b7b87185844c128e1e888046cef481",
       "version_major": 2,
       "version_minor": 0
      },
      "text/plain": [
       "NGLWidget(gui_style='ngl')"
      ]
     },
     "metadata": {},
     "output_type": "display_data"
    }
   ],
   "source": [
    "# Location of trajectory and topology files\n",
    "# (you can specify your own files here)\n",
    "top_loc = 'start_0ns_PL.pdb'\n",
    "traj_loc = 'md_0_100_center_PL.xtc'\n",
    "\n",
    "#Instrantiate the engens object\n",
    "\n",
    "#------------------------four options----------------------------#\n",
    "#-----you can uncomment any option that you would like to try-----#\n",
    "\n",
    "#Option 1 - load the full trajectory as a EnGen object \n",
    "\n",
    "#load full trajectory\n",
    "\n",
    "engen = EnGen(traj_loc, top_loc)\n",
    "\n",
    "\n",
    "# you can align the input trajectory by specifying the align flag to be true:\n",
    "# engen = EnGen(traj_loc, top_loc, align = True)\n",
    "\n",
    "\n",
    "\n",
    "#Option 2 - load a part of the trajectory by specifying a list of atoms of interest (binding site)\n",
    "#for example - first 10 atoms of the structure\n",
    "'''\n",
    "#load first 10 atoms of the trajectory\n",
    "N = 10\n",
    "select_list = [i for i in range(N)]\n",
    "engen = EnGen(traj_loc, top_loc, select_list)\n",
    "'''\n",
    "\n",
    "#Option 3 - load a part of the trajectory by specifying a selection string (binding site)\n",
    "#using atom selection format https://mdtraj.org/1.9.4/atom_selection.html\n",
    "#for example - you can specify residues with id 1, 2, 3 \n",
    "'''\n",
    "#load residues 1,2,3 of the trajectory\n",
    "binding_site_selstr = \"resid 1 or resid 2 or resid 3\"\n",
    "engen = EnGen(traj_loc, top_loc, binding_site_selstr)\n",
    "'''\n",
    "\n",
    "#Option 4 - load a part of the trajectory by selecting residues/atoms interactively\n",
    "# press CTRL and hover over the residues of interest to select them\n",
    "# press SHIFT and hover over residues to unselect them\n",
    "# to delete the selection input text \"none\" \n",
    "# into the filter for selection on the right side of the menu\n",
    "nglwidget = select_residues_nglview(top_loc)\n",
    "nglwidget"
   ]
  },
  {
   "cell_type": "code",
   "execution_count": 4,
   "metadata": {},
   "outputs": [
    {
     "data": {
      "application/javascript": [
       "\n",
       "var x = document.nglview.stage.getRepresentationsByName(\"selection\");\n",
       "var stickRepr = x['list'][0];\n",
       "var rules = JSON.stringify(stickRepr.repr.selection.selection.rules);\n",
       "console.log(\"Hello\");\n",
       "console.log(rules);\n",
       "var command = \"selection = '\" + rules + \"'\";\n",
       "IPython.notebook.kernel.execute(command);\n",
       "IPython.notebook.kernel.execute(\"selection = json.loads(selection)\");\n"
      ],
      "text/plain": [
       "<IPython.core.display.Javascript object>"
      ]
     },
     "metadata": {},
     "output_type": "display_data"
    }
   ],
   "source": [
    "## Option 4 - continue selection 1\n",
    "selection = None\n",
    "display(Javascript(js_script))"
   ]
  },
  {
   "cell_type": "code",
   "execution_count": 5,
   "metadata": {},
   "outputs": [
    {
     "name": "stderr",
     "output_type": "stream",
     "text": [
      "Aligning trajectory: 100%|██████████| 1/1 [00:05<00:00,  5.77s/it]\n",
      "Cleaning files...: 100%|██████████| 1/1 [00:00<00:00, 71.89it/s]\n",
      "Making the selection... : 101it [00:06, 16.40it/s]\n",
      "Cleaning files...: 100%|██████████| 101/101 [00:00<00:00, 16735.46it/s]\n"
     ]
    }
   ],
   "source": [
    "## Option 4 - continue selection 2\n",
    "binding_site_selstr = get_selstring(selection)\n",
    "#binding_site_selstr = \"(10 <= resid) and (resid <= 50)\" \n",
    "engen = EnGen(traj_loc, top_loc, binding_site_selstr, align = True)\n",
    "\n",
    "#------------------------end of options----------------------------#"
   ]
  },
  {
   "cell_type": "code",
   "execution_count": 6,
   "metadata": {},
   "outputs": [
    {
     "data": {
      "application/vnd.jupyter.widget-view+json": {
       "model_id": "13aaafb199974512b009783f1fd68914",
       "version_major": 2,
       "version_minor": 0
      },
      "text/plain": [
       "NGLWidget(max_frame=10000)"
      ]
     },
     "metadata": {},
     "output_type": "display_data"
    },
    {
     "data": {
      "application/vnd.jupyter.widget-view+json": {
       "model_id": "3b47653c33d042929d09bd4e2cd2b523",
       "version_major": 2,
       "version_minor": 0
      },
      "text/plain": [
       "Tab(children=(Box(children=(Box(children=(Box(children=(Label(value='step'), IntSlider(value=1, min=-100)), la…"
      ]
     },
     "metadata": {},
     "output_type": "display_data"
    }
   ],
   "source": [
    "\n",
    "#visualize the trajectory (optional - if trajectory too large, skip this step)\n",
    "nglwidget = engen.show_animated_traj()\n",
    "nglwidget.clear_representations()\n",
    "nglwidget.add_ball_and_stick()\n",
    "nglwidget.center()\n",
    "nglwidget"
   ]
  },
  {
   "cell_type": "markdown",
   "metadata": {},
   "source": [
    "### Step 2 - select different featurizations\n",
    "\n",
    "Here we select ways to featurize the trajectory. Any PyEmma <a href = http://www.emma-project.org/latest/api/generated/pyemma.coordinates.featurizer.html> trajectory featurization </a> can be used in this step and any of the parameters of the respective featurizations can be provided. Users can also use the default initialization which includes three sets of features: (1) amino-acid pairwise distances; (2) torsion angles and (3) amino-acid pairwise distances with the torsion angels."
   ]
  },
  {
   "cell_type": "code",
   "execution_count": 7,
   "metadata": {},
   "outputs": [
    {
     "name": "stdout",
     "output_type": "stream",
     "text": [
      "14-10-24 17:10:23 pyemma.coordinates.data.featurization.featurizer.MDFeaturizer[0] WARNING  Using all residue pairs with schemes like closest or closest-heavy is very time consuming. Consider reducing the residue pairs\n",
      "14-10-24 17:10:23 pyemma.coordinates.data.featurization.featurizer.MDFeaturizer[1] WARNING  Using all residue pairs with schemes like closest or closest-heavy is very time consuming. Consider reducing the residue pairs\n",
      "Featurizer no. 0:\n",
      " residue_mindist\n",
      "['RES_DIST (closest-heavy) LEU34 - SER41', 'RES_DIST (closest-heavy) LEU34 - SER42', 'RES_DIST (closest-heavy) LEU34 - SER43', 'RES_DIST (closest-heavy) LEU34 - PHE44', 'RES_DIST (closest-heavy) LEU34 - PHE56', 'RES_DIST (closest-heavy) LEU34 - TYR57', 'RES_DIST (closest-heavy) LEU34 - GLY58', 'RES_DIST (closest-heavy) LEU34 - ASP59', 'RES_DIST (closest-heavy) LEU34 - THR60', 'RES_DIST (closest-heavy) LEU34 - ASN61']...['RES_DIST (closest-heavy) LEU131 - ARG140', 'RES_DIST (closest-heavy) LEU131 - ILE141', 'RES_DIST (closest-heavy) LEU131 - TRP170', 'RES_DIST (closest-heavy) LEU131 - LEU171', 'RES_DIST (closest-heavy) LYS134 - ILE141', 'RES_DIST (closest-heavy) LYS134 - TRP170', 'RES_DIST (closest-heavy) LYS134 - LEU171', 'RES_DIST (closest-heavy) MET139 - TRP170', 'RES_DIST (closest-heavy) MET139 - LEU171', 'RES_DIST (closest-heavy) ARG140 - LEU171']\n",
      " Featurizer no. 1:\n",
      " backbone_torsions\n",
      "['COS(PHI 0 LYS 39)', 'SIN(PHI 0 LYS 39)', 'COS(PSI 0 LEU 34)', 'SIN(PSI 0 LEU 34)', 'COS(PHI 0 THR 40)', 'SIN(PHI 0 THR 40)', 'COS(PSI 0 LYS 39)', 'SIN(PSI 0 LYS 39)', 'COS(PHI 0 SER 41)', 'SIN(PHI 0 SER 41)']...['COS(PSI 0 ARG 140)', 'SIN(PSI 0 ARG 140)', 'COS(PHI 0 TRP 170)', 'SIN(PHI 0 TRP 170)', 'COS(PSI 0 ILE 141)', 'SIN(PSI 0 ILE 141)', 'COS(PHI 0 LEU 171)', 'SIN(PHI 0 LEU 171)', 'COS(PSI 0 TRP 170)', 'SIN(PSI 0 TRP 170)']\n",
      " Featurizer no. 2:\n",
      " backbone_torsions&residue_mindist\n",
      "['COS(PHI 0 LYS 39)', 'SIN(PHI 0 LYS 39)', 'COS(PSI 0 LEU 34)', 'SIN(PSI 0 LEU 34)', 'COS(PHI 0 THR 40)', 'SIN(PHI 0 THR 40)', 'COS(PSI 0 LYS 39)', 'SIN(PSI 0 LYS 39)', 'COS(PHI 0 SER 41)', 'SIN(PHI 0 SER 41)']...['RES_DIST (closest-heavy) LEU131 - ARG140', 'RES_DIST (closest-heavy) LEU131 - ILE141', 'RES_DIST (closest-heavy) LEU131 - TRP170', 'RES_DIST (closest-heavy) LEU131 - LEU171', 'RES_DIST (closest-heavy) LYS134 - ILE141', 'RES_DIST (closest-heavy) LYS134 - TRP170', 'RES_DIST (closest-heavy) LYS134 - LEU171', 'RES_DIST (closest-heavy) MET139 - TRP170', 'RES_DIST (closest-heavy) MET139 - LEU171', 'RES_DIST (closest-heavy) ARG140 - LEU171']\n",
      " \n"
     ]
    }
   ],
   "source": [
    "# Select the featurization for EnGens\n",
    "# (this step is performed on the selection you loaded above)\n",
    "\n",
    "#------------------------two options----------------------------#\n",
    "#-----you can uncomment any option that you would like to try-----#\n",
    "\n",
    "# Option 1 - extract the default features \n",
    "# ~~~~~~~~~~~~~~~~~~~~~~~~~~~~~~~~~~~~~~~~~ #\n",
    "# in this case the three default featurizations  will be added to engen object: \n",
    "# (1) aadist, (2) tangle and (3) aadist&tangle\n",
    "# ~~~~~~~~~~~~~~~~~~~~~~~~~~~~~~~~~~~~~~~~~~ #\n",
    "\n",
    "\n",
    "# remove any existing featurizers\n",
    "engen.reset_featurizers()\n",
    "\n",
    "# initialize default features \n",
    "engen.init_featurizers_default()\n",
    "\n",
    "\n",
    "# Option 2 - define the features you want to add on your own \n",
    "# ~~~~~~~~~~~~~~~~~~~~~~~~~~~~~~~~~~~~~~~~~ #\n",
    "# using any of the available featurizationswith PyEmma \n",
    "# http://www.emma-project.org/latest/api/generated/pyemma.coordinates.featurizer.html\n",
    "# with coresponding parameters\n",
    "# in this example we add three featurizations to the engen object: \n",
    "# (1) all-atoms, (2) C-alpha distances, (3) center-of-mass (COM) & tangles\n",
    "# ~~~~~~~~~~~~~~~~~~~~~~~~~~~~~~~~~~~~~~~~~ #\n",
    "\n",
    "'''\n",
    "# remove any existing featurizers\n",
    "\n",
    "engen.reset_featurizers()\n",
    "\n",
    "#all-atoms\n",
    "feat1 = {\n",
    "    \"add_sidechain_torsions\": {}\n",
    "}\n",
    "#add the respective features to the engen structure\n",
    "engen.add_featurizer(feat1)\n",
    "\n",
    "#C-alpha distances\n",
    "feat2 = {\n",
    "    \"add_backbone_torsions\": {\"cossin\":True, \"periodic\":False}\n",
    "}\n",
    "#add the respective features to the engen structure\n",
    "engen.add_featurizer(feat2)\n",
    "\n",
    "#center of mass and torsion angles\n",
    "feat3 = {\n",
    "    \"add_residue_COM\": {\"residue_indices\": [0, 1,2]},\n",
    "    \"add_distances_ca\": {\"periodic\":True, \"excluded_neighbors\":0}\n",
    "}\n",
    "#add the respective features to the engen structure\n",
    "engen.add_featurizer(feat3)\n",
    "'''\n",
    "\n",
    "\n",
    "#------------------------end of options----------------------------#\n",
    "\n",
    "# print the desctiption of the default features\n",
    "description = engen.describe_featurizers()\n",
    "print(description)"
   ]
  },
  {
   "cell_type": "markdown",
   "metadata": {},
   "source": [
    "### Step 3 - evaluate the featurizations\n",
    "\n",
    "This step is optional - we recommend evaluating the featurizations and picking the best using PyEmma's implementation of <a href=http://www.emma-project.org/latest/tutorials/notebooks/00-pentapeptide-showcase.html#Feature-selection> VAMP approach </a>.\n",
    "\n",
    "This helps you choose a set of features with which to proceed to the next Workflow."
   ]
  },
  {
   "cell_type": "code",
   "execution_count": 8,
   "metadata": {},
   "outputs": [
    {
     "name": "stdout",
     "output_type": "stream",
     "text": [
      "Choosing features with VAMP might take some time...\n",
      "Generating data from featurizations\n",
      "Running VAMP with different parameters. Might take some time.\n",
      "dimension =2, lag=100\n",
      "dimension =2, lag=150\n",
      "dimension =2, lag=200\n",
      "dimension =3, lag=100\n",
      "dimension =3, lag=150\n",
      "dimension =3, lag=200\n"
     ]
    },
    {
     "name": "stderr",
     "output_type": "stream",
     "text": [
      "/opt/conda/lib/python3.6/site-packages/engens/core/FeatureSelector.py:125: UserWarning: FixedFormatter should only be used together with FixedLocator\n",
      "  axes[i][j].set_xticklabels(names, rotation=30)\n"
     ]
    },
    {
     "data": {
      "image/png": "[encoded data removed]",
      "text/plain": [
       "<Figure size 864x432 with 6 Axes>"
      ]
     },
     "metadata": {
      "needs_background": "light"
     },
     "output_type": "display_data"
    }
   ],
   "source": [
    "\n",
    "#provide a range of lags and dimensions to train on\n",
    "\n",
    "#to make an informed decision on lag times see the timescale of your simulation\n",
    "traj_times = mdtraj.load(engen.traj, top=engen.ref).time\n",
    "#number of frames\n",
    "traj_nframes = len(traj_times)\n",
    "lags = [int(np.log(i)) for i in np.logspace(100, int(traj_nframes/50), num=3, base=np.e)]\n",
    "dims = [i + 1 for i in range(1,3)]\n",
    "\n",
    "#initialize VAMP2 featurizer and run it\n",
    "featsel = fs.VAMP2FeatureSelection(lags, dims, engen)\n",
    "featsel.run_vamp()\n",
    "\n",
    "#plot VAMP2 results\n",
    "featsel.plot_results()"
   ]
  },
  {
   "cell_type": "markdown",
   "metadata": {},
   "source": [
    "### Step 4 - pick the featurization\n",
    "\n",
    "We suggest using the featurization which gives you the highest VAMP2 score from the analysis above. To do so, run the cell below."
   ]
  },
  {
   "cell_type": "code",
   "execution_count": 9,
   "metadata": {},
   "outputs": [
    {
     "name": "stdout",
     "output_type": "stream",
     "text": [
      "Choosing features with VAMP might take some time...\n",
      "Using recycled VAMP2 scores.\n",
      "Picked featurized no. 2: backbone_torsions&residue_mindist\n",
      "With maximum VAMP2 score no. 2\n",
      "['COS(PHI 0 LYS 39)', 'SIN(PHI 0 LYS 39)', 'COS(PSI 0 LEU 34)', 'SIN(PSI 0 LEU 34)', 'COS(PHI 0 THR 40)', 'SIN(PHI 0 THR 40)', 'COS(PSI 0 LYS 39)', 'SIN(PSI 0 LYS 39)', 'COS(PHI 0 SER 41)', 'SIN(PHI 0 SER 41)', 'COS(PSI 0 THR 40)', 'SIN(PSI 0 THR 40)', 'COS(PHI 0 SER 42)', 'SIN(PHI 0 SER 42)', 'COS(PSI 0 SER 41)', 'SIN(PSI 0 SER 41)', 'COS(PHI 0 SER 43)', 'SIN(PHI 0 SER 43)', 'COS(PSI 0 SER 42)', 'SIN(PSI 0 SER 42)', 'COS(PHI 0 PHE 44)', 'SIN(PHI 0 PHE 44)', 'COS(PSI 0 SER 43)', 'SIN(PSI 0 SER 43)', 'COS(PHI 0 PHE 56)', 'SIN(PHI 0 PHE 56)', 'COS(PSI 0 PHE 44)', 'SIN(PSI 0 PHE 44)', 'COS(PHI 0 TYR 57)', 'SIN(PHI 0 TYR 57)', 'COS(PSI 0 PHE 56)', 'SIN(PSI 0 PHE 56)', 'COS(PHI 0 GLY 58)', 'SIN(PHI 0 GLY 58)', 'COS(PSI 0 TYR 57)', 'SIN(PSI 0 TYR 57)', 'COS(PHI 0 ASP 59)', 'SIN(PHI 0 ASP 59)', 'COS(PSI 0 GLY 58)', 'SIN(PSI 0 GLY 58)', 'COS(PHI 0 THR 60)', 'SIN(PHI 0 THR 60)', 'COS(PSI 0 ASP 59)', 'SIN(PSI 0 ASP 59)', 'COS(PHI 0 ASN 61)', 'SIN(PHI 0 ASN 61)', 'COS(PSI 0 THR 60)', 'SIN(PSI 0 THR 60)', 'COS(PHI 0 ASP 64)', 'SIN(PHI 0 ASP 64)', 'COS(PSI 0 ASN 61)', 'SIN(PSI 0 ASN 61)', 'COS(PHI 0 ASP 65)', 'SIN(PHI 0 ASP 65)', 'COS(PSI 0 ASP 64)', 'SIN(PSI 0 ASP 64)', 'COS(PHI 0 TRP 66)', 'SIN(PHI 0 TRP 66)', 'COS(PSI 0 ASP 65)', 'SIN(PSI 0 ASP 65)', 'COS(PHI 0 PHE 67)', 'SIN(PHI 0 PHE 67)', 'COS(PSI 0 TRP 66)', 'SIN(PSI 0 TRP 66)', 'COS(PHI 0 MET 68)', 'SIN(PHI 0 MET 68)', 'COS(PSI 0 PHE 67)', 'SIN(PSI 0 PHE 67)', 'COS(PHI 0 LEU 80)', 'SIN(PHI 0 LEU 80)', 'COS(PSI 0 MET 68)', 'SIN(PSI 0 MET 68)', 'COS(PHI 0 HIS 81)', 'SIN(PHI 0 HIS 81)', 'COS(PSI 0 LEU 80)', 'SIN(PSI 0 LEU 80)', 'COS(PHI 0 ASN 82)', 'SIN(PHI 0 ASN 82)', 'COS(PSI 0 HIS 81)', 'SIN(PSI 0 HIS 81)', 'COS(PHI 0 TRP 84)', 'SIN(PHI 0 TRP 84)', 'COS(PSI 0 ASN 82)', 'SIN(PSI 0 ASN 82)', 'COS(PHI 0 GLU 104)', 'SIN(PHI 0 GLU 104)', 'COS(PSI 0 TRP 84)', 'SIN(PSI 0 TRP 84)', 'COS(PHI 0 VAL 105)', 'SIN(PHI 0 VAL 105)', 'COS(PSI 0 GLU 104)', 'SIN(PSI 0 GLU 104)', 'COS(PHI 0 LYS 106)', 'SIN(PHI 0 LYS 106)', 'COS(PSI 0 VAL 105)', 'SIN(PSI 0 VAL 105)', 'COS(PHI 0 MET 107)', 'SIN(PHI 0 MET 107)', 'COS(PSI 0 LYS 106)', 'SIN(PSI 0 LYS 106)', 'COS(PHI 0 VAL 112)', 'SIN(PHI 0 VAL 112)', 'COS(PSI 0 MET 107)', 'SIN(PSI 0 MET 107)', 'COS(PHI 0 LEU 113)', 'SIN(PHI 0 LEU 113)', 'COS(PSI 0 VAL 112)', 'SIN(PSI 0 VAL 112)', 'COS(PHI 0 VAL 127)', 'SIN(PHI 0 VAL 127)', 'COS(PSI 0 LEU 113)', 'SIN(PSI 0 LEU 113)', 'COS(PHI 0 SER 128)', 'SIN(PHI 0 SER 128)', 'COS(PSI 0 VAL 127)', 'SIN(PSI 0 VAL 127)', 'COS(PHI 0 GLY 129)', 'SIN(PHI 0 GLY 129)', 'COS(PSI 0 SER 128)', 'SIN(PSI 0 SER 128)', 'COS(PHI 0 LEU 131)', 'SIN(PHI 0 LEU 131)', 'COS(PSI 0 GLY 129)', 'SIN(PSI 0 GLY 129)', 'COS(PHI 0 LYS 134)', 'SIN(PHI 0 LYS 134)', 'COS(PSI 0 LEU 131)', 'SIN(PSI 0 LEU 131)', 'COS(PHI 0 MET 139)', 'SIN(PHI 0 MET 139)', 'COS(PSI 0 LYS 134)', 'SIN(PSI 0 LYS 134)', 'COS(PHI 0 ARG 140)', 'SIN(PHI 0 ARG 140)', 'COS(PSI 0 MET 139)', 'SIN(PSI 0 MET 139)', 'COS(PHI 0 ILE 141)', 'SIN(PHI 0 ILE 141)', 'COS(PSI 0 ARG 140)', 'SIN(PSI 0 ARG 140)', 'COS(PHI 0 TRP 170)', 'SIN(PHI 0 TRP 170)', 'COS(PSI 0 ILE 141)', 'SIN(PSI 0 ILE 141)', 'COS(PHI 0 LEU 171)', 'SIN(PHI 0 LEU 171)', 'COS(PSI 0 TRP 170)', 'SIN(PSI 0 TRP 170)', 'RES_DIST (closest-heavy) LEU34 - SER41', 'RES_DIST (closest-heavy) LEU34 - SER42', 'RES_DIST (closest-heavy) LEU34 - SER43', 'RES_DIST (closest-heavy) LEU34 - PHE44', 'RES_DIST (closest-heavy) LEU34 - PHE56', 'RES_DIST (closest-heavy) LEU34 - TYR57', 'RES_DIST (closest-heavy) LEU34 - GLY58', 'RES_DIST (closest-heavy) LEU34 - ASP59', 'RES_DIST (closest-heavy) LEU34 - THR60', 'RES_DIST (closest-heavy) LEU34 - ASN61', 'RES_DIST (closest-heavy) LEU34 - ASP64', 'RES_DIST (closest-heavy) LEU34 - ASP65', 'RES_DIST (closest-heavy) LEU34 - TRP66', 'RES_DIST (closest-heavy) LEU34 - PHE67', 'RES_DIST (closest-heavy) LEU34 - MET68', 'RES_DIST (closest-heavy) LEU34 - LEU80', 'RES_DIST (closest-heavy) LEU34 - HIS81', 'RES_DIST (closest-heavy) LEU34 - ASN82', 'RES_DIST (closest-heavy) LEU34 - TRP84', 'RES_DIST (closest-heavy) LEU34 - GLU104', 'RES_DIST (closest-heavy) LEU34 - VAL105', 'RES_DIST (closest-heavy) LEU34 - LYS106', 'RES_DIST (closest-heavy) LEU34 - MET107', 'RES_DIST (closest-heavy) LEU34 - VAL112', 'RES_DIST (closest-heavy) LEU34 - LEU113', 'RES_DIST (closest-heavy) LEU34 - VAL127', 'RES_DIST (closest-heavy) LEU34 - SER128', 'RES_DIST (closest-heavy) LEU34 - GLY129', 'RES_DIST (closest-heavy) LEU34 - LEU131', 'RES_DIST (closest-heavy) LEU34 - LYS134', 'RES_DIST (closest-heavy) LEU34 - MET139', 'RES_DIST (closest-heavy) LEU34 - ARG140', 'RES_DIST (closest-heavy) LEU34 - ILE141', 'RES_DIST (closest-heavy) LEU34 - TRP170', 'RES_DIST (closest-heavy) LEU34 - LEU171', 'RES_DIST (closest-heavy) LYS39 - SER42', 'RES_DIST (closest-heavy) LYS39 - SER43', 'RES_DIST (closest-heavy) LYS39 - PHE44', 'RES_DIST (closest-heavy) LYS39 - PHE56', 'RES_DIST (closest-heavy) LYS39 - TYR57', 'RES_DIST (closest-heavy) LYS39 - GLY58', 'RES_DIST (closest-heavy) LYS39 - ASP59', 'RES_DIST (closest-heavy) LYS39 - THR60', 'RES_DIST (closest-heavy) LYS39 - ASN61', 'RES_DIST (closest-heavy) LYS39 - ASP64', 'RES_DIST (closest-heavy) LYS39 - ASP65', 'RES_DIST (closest-heavy) LYS39 - TRP66', 'RES_DIST (closest-heavy) LYS39 - PHE67', 'RES_DIST (closest-heavy) LYS39 - MET68', 'RES_DIST (closest-heavy) LYS39 - LEU80', 'RES_DIST (closest-heavy) LYS39 - HIS81', 'RES_DIST (closest-heavy) LYS39 - ASN82', 'RES_DIST (closest-heavy) LYS39 - TRP84', 'RES_DIST (closest-heavy) LYS39 - GLU104', 'RES_DIST (closest-heavy) LYS39 - VAL105', 'RES_DIST (closest-heavy) LYS39 - LYS106', 'RES_DIST (closest-heavy) LYS39 - MET107', 'RES_DIST (closest-heavy) LYS39 - VAL112', 'RES_DIST (closest-heavy) LYS39 - LEU113', 'RES_DIST (closest-heavy) LYS39 - VAL127', 'RES_DIST (closest-heavy) LYS39 - SER128', 'RES_DIST (closest-heavy) LYS39 - GLY129', 'RES_DIST (closest-heavy) LYS39 - LEU131', 'RES_DIST (closest-heavy) LYS39 - LYS134', 'RES_DIST (closest-heavy) LYS39 - MET139', 'RES_DIST (closest-heavy) LYS39 - ARG140', 'RES_DIST (closest-heavy) LYS39 - ILE141', 'RES_DIST (closest-heavy) LYS39 - TRP170', 'RES_DIST (closest-heavy) LYS39 - LEU171', 'RES_DIST (closest-heavy) THR40 - SER43', 'RES_DIST (closest-heavy) THR40 - PHE44', 'RES_DIST (closest-heavy) THR40 - PHE56', 'RES_DIST (closest-heavy) THR40 - TYR57', 'RES_DIST (closest-heavy) THR40 - GLY58', 'RES_DIST (closest-heavy) THR40 - ASP59', 'RES_DIST (closest-heavy) THR40 - THR60', 'RES_DIST (closest-heavy) THR40 - ASN61', 'RES_DIST (closest-heavy) THR40 - ASP64', 'RES_DIST (closest-heavy) THR40 - ASP65', 'RES_DIST (closest-heavy) THR40 - TRP66', 'RES_DIST (closest-heavy) THR40 - PHE67', 'RES_DIST (closest-heavy) THR40 - MET68', 'RES_DIST (closest-heavy) THR40 - LEU80', 'RES_DIST (closest-heavy) THR40 - HIS81', 'RES_DIST (closest-heavy) THR40 - ASN82', 'RES_DIST (closest-heavy) THR40 - TRP84', 'RES_DIST (closest-heavy) THR40 - GLU104', 'RES_DIST (closest-heavy) THR40 - VAL105', 'RES_DIST (closest-heavy) THR40 - LYS106', 'RES_DIST (closest-heavy) THR40 - MET107', 'RES_DIST (closest-heavy) THR40 - VAL112', 'RES_DIST (closest-heavy) THR40 - LEU113', 'RES_DIST (closest-heavy) THR40 - VAL127', 'RES_DIST (closest-heavy) THR40 - SER128', 'RES_DIST (closest-heavy) THR40 - GLY129', 'RES_DIST (closest-heavy) THR40 - LEU131', 'RES_DIST (closest-heavy) THR40 - LYS134', 'RES_DIST (closest-heavy) THR40 - MET139', 'RES_DIST (closest-heavy) THR40 - ARG140', 'RES_DIST (closest-heavy) THR40 - ILE141', 'RES_DIST (closest-heavy) THR40 - TRP170', 'RES_DIST (closest-heavy) THR40 - LEU171', 'RES_DIST (closest-heavy) SER41 - PHE44', 'RES_DIST (closest-heavy) SER41 - PHE56', 'RES_DIST (closest-heavy) SER41 - TYR57', 'RES_DIST (closest-heavy) SER41 - GLY58', 'RES_DIST (closest-heavy) SER41 - ASP59', 'RES_DIST (closest-heavy) SER41 - THR60', 'RES_DIST (closest-heavy) SER41 - ASN61', 'RES_DIST (closest-heavy) SER41 - ASP64', 'RES_DIST (closest-heavy) SER41 - ASP65', 'RES_DIST (closest-heavy) SER41 - TRP66', 'RES_DIST (closest-heavy) SER41 - PHE67', 'RES_DIST (closest-heavy) SER41 - MET68', 'RES_DIST (closest-heavy) SER41 - LEU80', 'RES_DIST (closest-heavy) SER41 - HIS81', 'RES_DIST (closest-heavy) SER41 - ASN82', 'RES_DIST (closest-heavy) SER41 - TRP84', 'RES_DIST (closest-heavy) SER41 - GLU104', 'RES_DIST (closest-heavy) SER41 - VAL105', 'RES_DIST (closest-heavy) SER41 - LYS106', 'RES_DIST (closest-heavy) SER41 - MET107', 'RES_DIST (closest-heavy) SER41 - VAL112', 'RES_DIST (closest-heavy) SER41 - LEU113', 'RES_DIST (closest-heavy) SER41 - VAL127', 'RES_DIST (closest-heavy) SER41 - SER128', 'RES_DIST (closest-heavy) SER41 - GLY129', 'RES_DIST (closest-heavy) SER41 - LEU131', 'RES_DIST (closest-heavy) SER41 - LYS134', 'RES_DIST (closest-heavy) SER41 - MET139', 'RES_DIST (closest-heavy) SER41 - ARG140', 'RES_DIST (closest-heavy) SER41 - ILE141', 'RES_DIST (closest-heavy) SER41 - TRP170', 'RES_DIST (closest-heavy) SER41 - LEU171', 'RES_DIST (closest-heavy) SER42 - PHE56', 'RES_DIST (closest-heavy) SER42 - TYR57', 'RES_DIST (closest-heavy) SER42 - GLY58', 'RES_DIST (closest-heavy) SER42 - ASP59', 'RES_DIST (closest-heavy) SER42 - THR60', 'RES_DIST (closest-heavy) SER42 - ASN61', 'RES_DIST (closest-heavy) SER42 - ASP64', 'RES_DIST (closest-heavy) SER42 - ASP65', 'RES_DIST (closest-heavy) SER42 - TRP66', 'RES_DIST (closest-heavy) SER42 - PHE67', 'RES_DIST (closest-heavy) SER42 - MET68', 'RES_DIST (closest-heavy) SER42 - LEU80', 'RES_DIST (closest-heavy) SER42 - HIS81', 'RES_DIST (closest-heavy) SER42 - ASN82', 'RES_DIST (closest-heavy) SER42 - TRP84', 'RES_DIST (closest-heavy) SER42 - GLU104', 'RES_DIST (closest-heavy) SER42 - VAL105', 'RES_DIST (closest-heavy) SER42 - LYS106', 'RES_DIST (closest-heavy) SER42 - MET107', 'RES_DIST (closest-heavy) SER42 - VAL112', 'RES_DIST (closest-heavy) SER42 - LEU113', 'RES_DIST (closest-heavy) SER42 - VAL127', 'RES_DIST (closest-heavy) SER42 - SER128', 'RES_DIST (closest-heavy) SER42 - GLY129', 'RES_DIST (closest-heavy) SER42 - LEU131', 'RES_DIST (closest-heavy) SER42 - LYS134', 'RES_DIST (closest-heavy) SER42 - MET139', 'RES_DIST (closest-heavy) SER42 - ARG140', 'RES_DIST (closest-heavy) SER42 - ILE141', 'RES_DIST (closest-heavy) SER42 - TRP170', 'RES_DIST (closest-heavy) SER42 - LEU171', 'RES_DIST (closest-heavy) SER43 - TYR57', 'RES_DIST (closest-heavy) SER43 - GLY58', 'RES_DIST (closest-heavy) SER43 - ASP59', 'RES_DIST (closest-heavy) SER43 - THR60', 'RES_DIST (closest-heavy) SER43 - ASN61', 'RES_DIST (closest-heavy) SER43 - ASP64', 'RES_DIST (closest-heavy) SER43 - ASP65', 'RES_DIST (closest-heavy) SER43 - TRP66', 'RES_DIST (closest-heavy) SER43 - PHE67', 'RES_DIST (closest-heavy) SER43 - MET68', 'RES_DIST (closest-heavy) SER43 - LEU80', 'RES_DIST (closest-heavy) SER43 - HIS81', 'RES_DIST (closest-heavy) SER43 - ASN82', 'RES_DIST (closest-heavy) SER43 - TRP84', 'RES_DIST (closest-heavy) SER43 - GLU104', 'RES_DIST (closest-heavy) SER43 - VAL105', 'RES_DIST (closest-heavy) SER43 - LYS106', 'RES_DIST (closest-heavy) SER43 - MET107', 'RES_DIST (closest-heavy) SER43 - VAL112', 'RES_DIST (closest-heavy) SER43 - LEU113', 'RES_DIST (closest-heavy) SER43 - VAL127', 'RES_DIST (closest-heavy) SER43 - SER128', 'RES_DIST (closest-heavy) SER43 - GLY129', 'RES_DIST (closest-heavy) SER43 - LEU131', 'RES_DIST (closest-heavy) SER43 - LYS134', 'RES_DIST (closest-heavy) SER43 - MET139', 'RES_DIST (closest-heavy) SER43 - ARG140', 'RES_DIST (closest-heavy) SER43 - ILE141', 'RES_DIST (closest-heavy) SER43 - TRP170', 'RES_DIST (closest-heavy) SER43 - LEU171', 'RES_DIST (closest-heavy) PHE44 - GLY58', 'RES_DIST (closest-heavy) PHE44 - ASP59', 'RES_DIST (closest-heavy) PHE44 - THR60', 'RES_DIST (closest-heavy) PHE44 - ASN61', 'RES_DIST (closest-heavy) PHE44 - ASP64', 'RES_DIST (closest-heavy) PHE44 - ASP65', 'RES_DIST (closest-heavy) PHE44 - TRP66', 'RES_DIST (closest-heavy) PHE44 - PHE67', 'RES_DIST (closest-heavy) PHE44 - MET68', 'RES_DIST (closest-heavy) PHE44 - LEU80', 'RES_DIST (closest-heavy) PHE44 - HIS81', 'RES_DIST (closest-heavy) PHE44 - ASN82', 'RES_DIST (closest-heavy) PHE44 - TRP84', 'RES_DIST (closest-heavy) PHE44 - GLU104', 'RES_DIST (closest-heavy) PHE44 - VAL105', 'RES_DIST (closest-heavy) PHE44 - LYS106', 'RES_DIST (closest-heavy) PHE44 - MET107', 'RES_DIST (closest-heavy) PHE44 - VAL112', 'RES_DIST (closest-heavy) PHE44 - LEU113', 'RES_DIST (closest-heavy) PHE44 - VAL127', 'RES_DIST (closest-heavy) PHE44 - SER128', 'RES_DIST (closest-heavy) PHE44 - GLY129', 'RES_DIST (closest-heavy) PHE44 - LEU131', 'RES_DIST (closest-heavy) PHE44 - LYS134', 'RES_DIST (closest-heavy) PHE44 - MET139', 'RES_DIST (closest-heavy) PHE44 - ARG140', 'RES_DIST (closest-heavy) PHE44 - ILE141', 'RES_DIST (closest-heavy) PHE44 - TRP170', 'RES_DIST (closest-heavy) PHE44 - LEU171', 'RES_DIST (closest-heavy) PHE56 - ASP59', 'RES_DIST (closest-heavy) PHE56 - THR60', 'RES_DIST (closest-heavy) PHE56 - ASN61', 'RES_DIST (closest-heavy) PHE56 - ASP64', 'RES_DIST (closest-heavy) PHE56 - ASP65', 'RES_DIST (closest-heavy) PHE56 - TRP66', 'RES_DIST (closest-heavy) PHE56 - PHE67', 'RES_DIST (closest-heavy) PHE56 - MET68', 'RES_DIST (closest-heavy) PHE56 - LEU80', 'RES_DIST (closest-heavy) PHE56 - HIS81', 'RES_DIST (closest-heavy) PHE56 - ASN82', 'RES_DIST (closest-heavy) PHE56 - TRP84', 'RES_DIST (closest-heavy) PHE56 - GLU104', 'RES_DIST (closest-heavy) PHE56 - VAL105', 'RES_DIST (closest-heavy) PHE56 - LYS106', 'RES_DIST (closest-heavy) PHE56 - MET107', 'RES_DIST (closest-heavy) PHE56 - VAL112', 'RES_DIST (closest-heavy) PHE56 - LEU113', 'RES_DIST (closest-heavy) PHE56 - VAL127', 'RES_DIST (closest-heavy) PHE56 - SER128', 'RES_DIST (closest-heavy) PHE56 - GLY129', 'RES_DIST (closest-heavy) PHE56 - LEU131', 'RES_DIST (closest-heavy) PHE56 - LYS134', 'RES_DIST (closest-heavy) PHE56 - MET139', 'RES_DIST (closest-heavy) PHE56 - ARG140', 'RES_DIST (closest-heavy) PHE56 - ILE141', 'RES_DIST (closest-heavy) PHE56 - TRP170', 'RES_DIST (closest-heavy) PHE56 - LEU171', 'RES_DIST (closest-heavy) TYR57 - THR60', 'RES_DIST (closest-heavy) TYR57 - ASN61', 'RES_DIST (closest-heavy) TYR57 - ASP64', 'RES_DIST (closest-heavy) TYR57 - ASP65', 'RES_DIST (closest-heavy) TYR57 - TRP66', 'RES_DIST (closest-heavy) TYR57 - PHE67', 'RES_DIST (closest-heavy) TYR57 - MET68', 'RES_DIST (closest-heavy) TYR57 - LEU80', 'RES_DIST (closest-heavy) TYR57 - HIS81', 'RES_DIST (closest-heavy) TYR57 - ASN82', 'RES_DIST (closest-heavy) TYR57 - TRP84', 'RES_DIST (closest-heavy) TYR57 - GLU104', 'RES_DIST (closest-heavy) TYR57 - VAL105', 'RES_DIST (closest-heavy) TYR57 - LYS106', 'RES_DIST (closest-heavy) TYR57 - MET107', 'RES_DIST (closest-heavy) TYR57 - VAL112', 'RES_DIST (closest-heavy) TYR57 - LEU113', 'RES_DIST (closest-heavy) TYR57 - VAL127', 'RES_DIST (closest-heavy) TYR57 - SER128', 'RES_DIST (closest-heavy) TYR57 - GLY129', 'RES_DIST (closest-heavy) TYR57 - LEU131', 'RES_DIST (closest-heavy) TYR57 - LYS134', 'RES_DIST (closest-heavy) TYR57 - MET139', 'RES_DIST (closest-heavy) TYR57 - ARG140', 'RES_DIST (closest-heavy) TYR57 - ILE141', 'RES_DIST (closest-heavy) TYR57 - TRP170', 'RES_DIST (closest-heavy) TYR57 - LEU171', 'RES_DIST (closest-heavy) GLY58 - ASN61', 'RES_DIST (closest-heavy) GLY58 - ASP64', 'RES_DIST (closest-heavy) GLY58 - ASP65', 'RES_DIST (closest-heavy) GLY58 - TRP66', 'RES_DIST (closest-heavy) GLY58 - PHE67', 'RES_DIST (closest-heavy) GLY58 - MET68', 'RES_DIST (closest-heavy) GLY58 - LEU80', 'RES_DIST (closest-heavy) GLY58 - HIS81', 'RES_DIST (closest-heavy) GLY58 - ASN82', 'RES_DIST (closest-heavy) GLY58 - TRP84', 'RES_DIST (closest-heavy) GLY58 - GLU104', 'RES_DIST (closest-heavy) GLY58 - VAL105', 'RES_DIST (closest-heavy) GLY58 - LYS106', 'RES_DIST (closest-heavy) GLY58 - MET107', 'RES_DIST (closest-heavy) GLY58 - VAL112', 'RES_DIST (closest-heavy) GLY58 - LEU113', 'RES_DIST (closest-heavy) GLY58 - VAL127', 'RES_DIST (closest-heavy) GLY58 - SER128', 'RES_DIST (closest-heavy) GLY58 - GLY129', 'RES_DIST (closest-heavy) GLY58 - LEU131', 'RES_DIST (closest-heavy) GLY58 - LYS134', 'RES_DIST (closest-heavy) GLY58 - MET139', 'RES_DIST (closest-heavy) GLY58 - ARG140', 'RES_DIST (closest-heavy) GLY58 - ILE141', 'RES_DIST (closest-heavy) GLY58 - TRP170', 'RES_DIST (closest-heavy) GLY58 - LEU171', 'RES_DIST (closest-heavy) ASP59 - ASP64', 'RES_DIST (closest-heavy) ASP59 - ASP65', 'RES_DIST (closest-heavy) ASP59 - TRP66', 'RES_DIST (closest-heavy) ASP59 - PHE67', 'RES_DIST (closest-heavy) ASP59 - MET68', 'RES_DIST (closest-heavy) ASP59 - LEU80', 'RES_DIST (closest-heavy) ASP59 - HIS81', 'RES_DIST (closest-heavy) ASP59 - ASN82', 'RES_DIST (closest-heavy) ASP59 - TRP84', 'RES_DIST (closest-heavy) ASP59 - GLU104', 'RES_DIST (closest-heavy) ASP59 - VAL105', 'RES_DIST (closest-heavy) ASP59 - LYS106', 'RES_DIST (closest-heavy) ASP59 - MET107', 'RES_DIST (closest-heavy) ASP59 - VAL112', 'RES_DIST (closest-heavy) ASP59 - LEU113', 'RES_DIST (closest-heavy) ASP59 - VAL127', 'RES_DIST (closest-heavy) ASP59 - SER128', 'RES_DIST (closest-heavy) ASP59 - GLY129', 'RES_DIST (closest-heavy) ASP59 - LEU131', 'RES_DIST (closest-heavy) ASP59 - LYS134', 'RES_DIST (closest-heavy) ASP59 - MET139', 'RES_DIST (closest-heavy) ASP59 - ARG140', 'RES_DIST (closest-heavy) ASP59 - ILE141', 'RES_DIST (closest-heavy) ASP59 - TRP170', 'RES_DIST (closest-heavy) ASP59 - LEU171', 'RES_DIST (closest-heavy) THR60 - ASP65', 'RES_DIST (closest-heavy) THR60 - TRP66', 'RES_DIST (closest-heavy) THR60 - PHE67', 'RES_DIST (closest-heavy) THR60 - MET68', 'RES_DIST (closest-heavy) THR60 - LEU80', 'RES_DIST (closest-heavy) THR60 - HIS81', 'RES_DIST (closest-heavy) THR60 - ASN82', 'RES_DIST (closest-heavy) THR60 - TRP84', 'RES_DIST (closest-heavy) THR60 - GLU104', 'RES_DIST (closest-heavy) THR60 - VAL105', 'RES_DIST (closest-heavy) THR60 - LYS106', 'RES_DIST (closest-heavy) THR60 - MET107', 'RES_DIST (closest-heavy) THR60 - VAL112', 'RES_DIST (closest-heavy) THR60 - LEU113', 'RES_DIST (closest-heavy) THR60 - VAL127', 'RES_DIST (closest-heavy) THR60 - SER128', 'RES_DIST (closest-heavy) THR60 - GLY129', 'RES_DIST (closest-heavy) THR60 - LEU131', 'RES_DIST (closest-heavy) THR60 - LYS134', 'RES_DIST (closest-heavy) THR60 - MET139', 'RES_DIST (closest-heavy) THR60 - ARG140', 'RES_DIST (closest-heavy) THR60 - ILE141', 'RES_DIST (closest-heavy) THR60 - TRP170', 'RES_DIST (closest-heavy) THR60 - LEU171', 'RES_DIST (closest-heavy) ASN61 - TRP66', 'RES_DIST (closest-heavy) ASN61 - PHE67', 'RES_DIST (closest-heavy) ASN61 - MET68', 'RES_DIST (closest-heavy) ASN61 - LEU80', 'RES_DIST (closest-heavy) ASN61 - HIS81', 'RES_DIST (closest-heavy) ASN61 - ASN82', 'RES_DIST (closest-heavy) ASN61 - TRP84', 'RES_DIST (closest-heavy) ASN61 - GLU104', 'RES_DIST (closest-heavy) ASN61 - VAL105', 'RES_DIST (closest-heavy) ASN61 - LYS106', 'RES_DIST (closest-heavy) ASN61 - MET107', 'RES_DIST (closest-heavy) ASN61 - VAL112', 'RES_DIST (closest-heavy) ASN61 - LEU113', 'RES_DIST (closest-heavy) ASN61 - VAL127', 'RES_DIST (closest-heavy) ASN61 - SER128', 'RES_DIST (closest-heavy) ASN61 - GLY129', 'RES_DIST (closest-heavy) ASN61 - LEU131', 'RES_DIST (closest-heavy) ASN61 - LYS134', 'RES_DIST (closest-heavy) ASN61 - MET139', 'RES_DIST (closest-heavy) ASN61 - ARG140', 'RES_DIST (closest-heavy) ASN61 - ILE141', 'RES_DIST (closest-heavy) ASN61 - TRP170', 'RES_DIST (closest-heavy) ASN61 - LEU171', 'RES_DIST (closest-heavy) ASP64 - PHE67', 'RES_DIST (closest-heavy) ASP64 - MET68', 'RES_DIST (closest-heavy) ASP64 - LEU80', 'RES_DIST (closest-heavy) ASP64 - HIS81', 'RES_DIST (closest-heavy) ASP64 - ASN82', 'RES_DIST (closest-heavy) ASP64 - TRP84', 'RES_DIST (closest-heavy) ASP64 - GLU104', 'RES_DIST (closest-heavy) ASP64 - VAL105', 'RES_DIST (closest-heavy) ASP64 - LYS106', 'RES_DIST (closest-heavy) ASP64 - MET107', 'RES_DIST (closest-heavy) ASP64 - VAL112', 'RES_DIST (closest-heavy) ASP64 - LEU113', 'RES_DIST (closest-heavy) ASP64 - VAL127', 'RES_DIST (closest-heavy) ASP64 - SER128', 'RES_DIST (closest-heavy) ASP64 - GLY129', 'RES_DIST (closest-heavy) ASP64 - LEU131', 'RES_DIST (closest-heavy) ASP64 - LYS134', 'RES_DIST (closest-heavy) ASP64 - MET139', 'RES_DIST (closest-heavy) ASP64 - ARG140', 'RES_DIST (closest-heavy) ASP64 - ILE141', 'RES_DIST (closest-heavy) ASP64 - TRP170', 'RES_DIST (closest-heavy) ASP64 - LEU171', 'RES_DIST (closest-heavy) ASP65 - MET68', 'RES_DIST (closest-heavy) ASP65 - LEU80', 'RES_DIST (closest-heavy) ASP65 - HIS81', 'RES_DIST (closest-heavy) ASP65 - ASN82', 'RES_DIST (closest-heavy) ASP65 - TRP84', 'RES_DIST (closest-heavy) ASP65 - GLU104', 'RES_DIST (closest-heavy) ASP65 - VAL105', 'RES_DIST (closest-heavy) ASP65 - LYS106', 'RES_DIST (closest-heavy) ASP65 - MET107', 'RES_DIST (closest-heavy) ASP65 - VAL112', 'RES_DIST (closest-heavy) ASP65 - LEU113', 'RES_DIST (closest-heavy) ASP65 - VAL127', 'RES_DIST (closest-heavy) ASP65 - SER128', 'RES_DIST (closest-heavy) ASP65 - GLY129', 'RES_DIST (closest-heavy) ASP65 - LEU131', 'RES_DIST (closest-heavy) ASP65 - LYS134', 'RES_DIST (closest-heavy) ASP65 - MET139', 'RES_DIST (closest-heavy) ASP65 - ARG140', 'RES_DIST (closest-heavy) ASP65 - ILE141', 'RES_DIST (closest-heavy) ASP65 - TRP170', 'RES_DIST (closest-heavy) ASP65 - LEU171', 'RES_DIST (closest-heavy) TRP66 - LEU80', 'RES_DIST (closest-heavy) TRP66 - HIS81', 'RES_DIST (closest-heavy) TRP66 - ASN82', 'RES_DIST (closest-heavy) TRP66 - TRP84', 'RES_DIST (closest-heavy) TRP66 - GLU104', 'RES_DIST (closest-heavy) TRP66 - VAL105', 'RES_DIST (closest-heavy) TRP66 - LYS106', 'RES_DIST (closest-heavy) TRP66 - MET107', 'RES_DIST (closest-heavy) TRP66 - VAL112', 'RES_DIST (closest-heavy) TRP66 - LEU113', 'RES_DIST (closest-heavy) TRP66 - VAL127', 'RES_DIST (closest-heavy) TRP66 - SER128', 'RES_DIST (closest-heavy) TRP66 - GLY129', 'RES_DIST (closest-heavy) TRP66 - LEU131', 'RES_DIST (closest-heavy) TRP66 - LYS134', 'RES_DIST (closest-heavy) TRP66 - MET139', 'RES_DIST (closest-heavy) TRP66 - ARG140', 'RES_DIST (closest-heavy) TRP66 - ILE141', 'RES_DIST (closest-heavy) TRP66 - TRP170', 'RES_DIST (closest-heavy) TRP66 - LEU171', 'RES_DIST (closest-heavy) PHE67 - HIS81', 'RES_DIST (closest-heavy) PHE67 - ASN82', 'RES_DIST (closest-heavy) PHE67 - TRP84', 'RES_DIST (closest-heavy) PHE67 - GLU104', 'RES_DIST (closest-heavy) PHE67 - VAL105', 'RES_DIST (closest-heavy) PHE67 - LYS106', 'RES_DIST (closest-heavy) PHE67 - MET107', 'RES_DIST (closest-heavy) PHE67 - VAL112', 'RES_DIST (closest-heavy) PHE67 - LEU113', 'RES_DIST (closest-heavy) PHE67 - VAL127', 'RES_DIST (closest-heavy) PHE67 - SER128', 'RES_DIST (closest-heavy) PHE67 - GLY129', 'RES_DIST (closest-heavy) PHE67 - LEU131', 'RES_DIST (closest-heavy) PHE67 - LYS134', 'RES_DIST (closest-heavy) PHE67 - MET139', 'RES_DIST (closest-heavy) PHE67 - ARG140', 'RES_DIST (closest-heavy) PHE67 - ILE141', 'RES_DIST (closest-heavy) PHE67 - TRP170', 'RES_DIST (closest-heavy) PHE67 - LEU171', 'RES_DIST (closest-heavy) MET68 - ASN82', 'RES_DIST (closest-heavy) MET68 - TRP84', 'RES_DIST (closest-heavy) MET68 - GLU104', 'RES_DIST (closest-heavy) MET68 - VAL105', 'RES_DIST (closest-heavy) MET68 - LYS106', 'RES_DIST (closest-heavy) MET68 - MET107', 'RES_DIST (closest-heavy) MET68 - VAL112', 'RES_DIST (closest-heavy) MET68 - LEU113', 'RES_DIST (closest-heavy) MET68 - VAL127', 'RES_DIST (closest-heavy) MET68 - SER128', 'RES_DIST (closest-heavy) MET68 - GLY129', 'RES_DIST (closest-heavy) MET68 - LEU131', 'RES_DIST (closest-heavy) MET68 - LYS134', 'RES_DIST (closest-heavy) MET68 - MET139', 'RES_DIST (closest-heavy) MET68 - ARG140', 'RES_DIST (closest-heavy) MET68 - ILE141', 'RES_DIST (closest-heavy) MET68 - TRP170', 'RES_DIST (closest-heavy) MET68 - LEU171', 'RES_DIST (closest-heavy) LEU80 - TRP84', 'RES_DIST (closest-heavy) LEU80 - GLU104', 'RES_DIST (closest-heavy) LEU80 - VAL105', 'RES_DIST (closest-heavy) LEU80 - LYS106', 'RES_DIST (closest-heavy) LEU80 - MET107', 'RES_DIST (closest-heavy) LEU80 - VAL112', 'RES_DIST (closest-heavy) LEU80 - LEU113', 'RES_DIST (closest-heavy) LEU80 - VAL127', 'RES_DIST (closest-heavy) LEU80 - SER128', 'RES_DIST (closest-heavy) LEU80 - GLY129', 'RES_DIST (closest-heavy) LEU80 - LEU131', 'RES_DIST (closest-heavy) LEU80 - LYS134', 'RES_DIST (closest-heavy) LEU80 - MET139', 'RES_DIST (closest-heavy) LEU80 - ARG140', 'RES_DIST (closest-heavy) LEU80 - ILE141', 'RES_DIST (closest-heavy) LEU80 - TRP170', 'RES_DIST (closest-heavy) LEU80 - LEU171', 'RES_DIST (closest-heavy) HIS81 - GLU104', 'RES_DIST (closest-heavy) HIS81 - VAL105', 'RES_DIST (closest-heavy) HIS81 - LYS106', 'RES_DIST (closest-heavy) HIS81 - MET107', 'RES_DIST (closest-heavy) HIS81 - VAL112', 'RES_DIST (closest-heavy) HIS81 - LEU113', 'RES_DIST (closest-heavy) HIS81 - VAL127', 'RES_DIST (closest-heavy) HIS81 - SER128', 'RES_DIST (closest-heavy) HIS81 - GLY129', 'RES_DIST (closest-heavy) HIS81 - LEU131', 'RES_DIST (closest-heavy) HIS81 - LYS134', 'RES_DIST (closest-heavy) HIS81 - MET139', 'RES_DIST (closest-heavy) HIS81 - ARG140', 'RES_DIST (closest-heavy) HIS81 - ILE141', 'RES_DIST (closest-heavy) HIS81 - TRP170', 'RES_DIST (closest-heavy) HIS81 - LEU171', 'RES_DIST (closest-heavy) ASN82 - VAL105', 'RES_DIST (closest-heavy) ASN82 - LYS106', 'RES_DIST (closest-heavy) ASN82 - MET107', 'RES_DIST (closest-heavy) ASN82 - VAL112', 'RES_DIST (closest-heavy) ASN82 - LEU113', 'RES_DIST (closest-heavy) ASN82 - VAL127', 'RES_DIST (closest-heavy) ASN82 - SER128', 'RES_DIST (closest-heavy) ASN82 - GLY129', 'RES_DIST (closest-heavy) ASN82 - LEU131', 'RES_DIST (closest-heavy) ASN82 - LYS134', 'RES_DIST (closest-heavy) ASN82 - MET139', 'RES_DIST (closest-heavy) ASN82 - ARG140', 'RES_DIST (closest-heavy) ASN82 - ILE141', 'RES_DIST (closest-heavy) ASN82 - TRP170', 'RES_DIST (closest-heavy) ASN82 - LEU171', 'RES_DIST (closest-heavy) TRP84 - LYS106', 'RES_DIST (closest-heavy) TRP84 - MET107', 'RES_DIST (closest-heavy) TRP84 - VAL112', 'RES_DIST (closest-heavy) TRP84 - LEU113', 'RES_DIST (closest-heavy) TRP84 - VAL127', 'RES_DIST (closest-heavy) TRP84 - SER128', 'RES_DIST (closest-heavy) TRP84 - GLY129', 'RES_DIST (closest-heavy) TRP84 - LEU131', 'RES_DIST (closest-heavy) TRP84 - LYS134', 'RES_DIST (closest-heavy) TRP84 - MET139', 'RES_DIST (closest-heavy) TRP84 - ARG140', 'RES_DIST (closest-heavy) TRP84 - ILE141', 'RES_DIST (closest-heavy) TRP84 - TRP170', 'RES_DIST (closest-heavy) TRP84 - LEU171', 'RES_DIST (closest-heavy) GLU104 - MET107', 'RES_DIST (closest-heavy) GLU104 - VAL112', 'RES_DIST (closest-heavy) GLU104 - LEU113', 'RES_DIST (closest-heavy) GLU104 - VAL127', 'RES_DIST (closest-heavy) GLU104 - SER128', 'RES_DIST (closest-heavy) GLU104 - GLY129', 'RES_DIST (closest-heavy) GLU104 - LEU131', 'RES_DIST (closest-heavy) GLU104 - LYS134', 'RES_DIST (closest-heavy) GLU104 - MET139', 'RES_DIST (closest-heavy) GLU104 - ARG140', 'RES_DIST (closest-heavy) GLU104 - ILE141', 'RES_DIST (closest-heavy) GLU104 - TRP170', 'RES_DIST (closest-heavy) GLU104 - LEU171', 'RES_DIST (closest-heavy) VAL105 - VAL112', 'RES_DIST (closest-heavy) VAL105 - LEU113', 'RES_DIST (closest-heavy) VAL105 - VAL127', 'RES_DIST (closest-heavy) VAL105 - SER128', 'RES_DIST (closest-heavy) VAL105 - GLY129', 'RES_DIST (closest-heavy) VAL105 - LEU131', 'RES_DIST (closest-heavy) VAL105 - LYS134', 'RES_DIST (closest-heavy) VAL105 - MET139', 'RES_DIST (closest-heavy) VAL105 - ARG140', 'RES_DIST (closest-heavy) VAL105 - ILE141', 'RES_DIST (closest-heavy) VAL105 - TRP170', 'RES_DIST (closest-heavy) VAL105 - LEU171', 'RES_DIST (closest-heavy) LYS106 - LEU113', 'RES_DIST (closest-heavy) LYS106 - VAL127', 'RES_DIST (closest-heavy) LYS106 - SER128', 'RES_DIST (closest-heavy) LYS106 - GLY129', 'RES_DIST (closest-heavy) LYS106 - LEU131', 'RES_DIST (closest-heavy) LYS106 - LYS134', 'RES_DIST (closest-heavy) LYS106 - MET139', 'RES_DIST (closest-heavy) LYS106 - ARG140', 'RES_DIST (closest-heavy) LYS106 - ILE141', 'RES_DIST (closest-heavy) LYS106 - TRP170', 'RES_DIST (closest-heavy) LYS106 - LEU171', 'RES_DIST (closest-heavy) MET107 - VAL127', 'RES_DIST (closest-heavy) MET107 - SER128', 'RES_DIST (closest-heavy) MET107 - GLY129', 'RES_DIST (closest-heavy) MET107 - LEU131', 'RES_DIST (closest-heavy) MET107 - LYS134', 'RES_DIST (closest-heavy) MET107 - MET139', 'RES_DIST (closest-heavy) MET107 - ARG140', 'RES_DIST (closest-heavy) MET107 - ILE141', 'RES_DIST (closest-heavy) MET107 - TRP170', 'RES_DIST (closest-heavy) MET107 - LEU171', 'RES_DIST (closest-heavy) VAL112 - SER128', 'RES_DIST (closest-heavy) VAL112 - GLY129', 'RES_DIST (closest-heavy) VAL112 - LEU131', 'RES_DIST (closest-heavy) VAL112 - LYS134', 'RES_DIST (closest-heavy) VAL112 - MET139', 'RES_DIST (closest-heavy) VAL112 - ARG140', 'RES_DIST (closest-heavy) VAL112 - ILE141', 'RES_DIST (closest-heavy) VAL112 - TRP170', 'RES_DIST (closest-heavy) VAL112 - LEU171', 'RES_DIST (closest-heavy) LEU113 - GLY129', 'RES_DIST (closest-heavy) LEU113 - LEU131', 'RES_DIST (closest-heavy) LEU113 - LYS134', 'RES_DIST (closest-heavy) LEU113 - MET139', 'RES_DIST (closest-heavy) LEU113 - ARG140', 'RES_DIST (closest-heavy) LEU113 - ILE141', 'RES_DIST (closest-heavy) LEU113 - TRP170', 'RES_DIST (closest-heavy) LEU113 - LEU171', 'RES_DIST (closest-heavy) VAL127 - LEU131', 'RES_DIST (closest-heavy) VAL127 - LYS134', 'RES_DIST (closest-heavy) VAL127 - MET139', 'RES_DIST (closest-heavy) VAL127 - ARG140', 'RES_DIST (closest-heavy) VAL127 - ILE141', 'RES_DIST (closest-heavy) VAL127 - TRP170', 'RES_DIST (closest-heavy) VAL127 - LEU171', 'RES_DIST (closest-heavy) SER128 - LYS134', 'RES_DIST (closest-heavy) SER128 - MET139', 'RES_DIST (closest-heavy) SER128 - ARG140', 'RES_DIST (closest-heavy) SER128 - ILE141', 'RES_DIST (closest-heavy) SER128 - TRP170', 'RES_DIST (closest-heavy) SER128 - LEU171', 'RES_DIST (closest-heavy) GLY129 - MET139', 'RES_DIST (closest-heavy) GLY129 - ARG140', 'RES_DIST (closest-heavy) GLY129 - ILE141', 'RES_DIST (closest-heavy) GLY129 - TRP170', 'RES_DIST (closest-heavy) GLY129 - LEU171', 'RES_DIST (closest-heavy) LEU131 - ARG140', 'RES_DIST (closest-heavy) LEU131 - ILE141', 'RES_DIST (closest-heavy) LEU131 - TRP170', 'RES_DIST (closest-heavy) LEU131 - LEU171', 'RES_DIST (closest-heavy) LYS134 - ILE141', 'RES_DIST (closest-heavy) LYS134 - TRP170', 'RES_DIST (closest-heavy) LYS134 - LEU171', 'RES_DIST (closest-heavy) MET139 - TRP170', 'RES_DIST (closest-heavy) MET139 - LEU171', 'RES_DIST (closest-heavy) ARG140 - LEU171']\n",
      "\n"
     ]
    }
   ],
   "source": [
    "# Select using the VAMP2 selector from above \n",
    "\n",
    "featsel.select_feature()\n",
    "\n",
    "\n",
    "# ~~~~~~~~~~~~~~~~~~~~~~~~~~~~~~~~~~ #\n",
    "# alternatively you can chose any feature regardless of the VAMP2 score by running the code commented here\n",
    "\n",
    "'''\n",
    "#apply features\n",
    "engen.apply_featurizations()\n",
    "#print possible features\n",
    "print(engen.describe_featurizers())\n",
    "#select the number of the desired feature\n",
    "feat_num = 1\n",
    "# initialize selector\n",
    "featsel = fs.UserFeatureSelection(feat_num, engen)\n",
    "#select the feature\n",
    "featsel.select_feature()\n",
    "'''\n",
    "# ~~~~~~~~~~~~~~~~~~~~~~~~~~~~~~~~ #\n",
    "print()"
   ]
  },
  {
   "cell_type": "markdown",
   "metadata": {},
   "source": [
    "### Step 5 - save the results as input for Workflow2 - dimensionality reduction"
   ]
  },
  {
   "cell_type": "code",
   "execution_count": 10,
   "metadata": {},
   "outputs": [],
   "source": [
    "# save the results for next workflow\n",
    "\n",
    "with open(\"wf1_resulting_EnGen.pickle\", \"wb\") as file:\n",
    "    pickle.dump(engen, file, -1)"
   ]
  },
  {
   "cell_type": "code",
   "execution_count": null,
   "metadata": {},
   "outputs": [],
   "source": []
  }
 ],
 "metadata": {
  "interpreter": {
   "hash": "d429d429aea2339123034138905f0cd1b56c1cbab1e9830e5564dfad92aaa54f"
  },
  "kernelspec": {
   "display_name": "Python 3",
   "language": "python",
   "name": "python3"
  },
  "language_info": {
   "codemirror_mode": {
    "name": "ipython",
    "version": 3
   },
   "file_extension": ".py",
   "mimetype": "text/x-python",
   "name": "python",
   "nbconvert_exporter": "python",
   "pygments_lexer": "ipython3",
   "version": "3.6.7"
  }
 },
 "nbformat": 4,
 "nbformat_minor": 4
}
